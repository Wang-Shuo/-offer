{
 "cells": [
  {
   "cell_type": "markdown",
   "metadata": {},
   "source": [
    "### 题目一"
   ]
  },
  {
   "cell_type": "markdown",
   "metadata": {},
   "source": [
    "给定单向链表的头指针和一个节点指针，定义一个函数在O(1)时间内删除该节点。[Delete Node in a Linked List](https://leetcode.com/problems/delete-node-in-a-linked-list/description/)"
   ]
  },
  {
   "cell_type": "code",
   "execution_count": 2,
   "metadata": {
    "collapsed": true
   },
   "outputs": [],
   "source": [
    "class ListNode:\n",
    "    def __init__(self, x):\n",
    "        self.val = x\n",
    "        self.next = None\n",
    "    def __del__(self):\n",
    "        self.val = None\n",
    "        self.next = None"
   ]
  },
  {
   "cell_type": "markdown",
   "metadata": {},
   "source": [
    "思路：常规的做法要想删除链表的一个节点，需要从头开始顺序遍历链表，将要删除节点的前一个节点的next指针指向要删除节点的下一个节点。但是这种方法的时间复杂度是O(n)，不符合题目要求。换一种思路，由于知道要删除节点的指针，很容易得到需要删除节点的下一个节点。将下一个节点的内容复制到要删除的节点上覆盖原有的内容，再把下一个节点删除，就相当于把当前需要删除的节点删除了。\n",
    "\n",
    "编程时要考虑三种情况：\n",
    "1. 要删除的节点是尾节点的情况，就需要从头开始遍历得到尾节点的前一个节点；\n",
    "2. 链表中只有一个节点的情况；\n",
    "3. 要删除的节点不是尾节点"
   ]
  },
  {
   "cell_type": "code",
   "execution_count": 3,
   "metadata": {
    "collapsed": true
   },
   "outputs": [],
   "source": [
    "class Solution:\n",
    "    def DeleteNode(self, head, node):\n",
    "        if not head or not node:\n",
    "            return\n",
    "        \n",
    "        if node.next:\n",
    "            node.val = node.next.val\n",
    "            node.next = node.next.next\n",
    "        elif node == head:\n",
    "            head = None\n",
    "        else:\n",
    "            curNode = head\n",
    "            while curNode.next != node:\n",
    "                curNode = curNode.next\n",
    "            curNode.next = None"
   ]
  },
  {
   "cell_type": "markdown",
   "metadata": {},
   "source": [
    "### 题目二"
   ]
  },
  {
   "cell_type": "markdown",
   "metadata": {},
   "source": [
    "在一个排序的链表中，存在重复的结点，请删除该链表中重复的结点，重复的结点不保留，返回链表头指针。 例如，链表1->2->3->3->4->4->5 处理后为 1->2->5。                [nowcoder:删除链表中重复的节点](https://www.nowcoder.com/practice/fc533c45b73a41b0b44ccba763f866ef?tpId=13&tqId=11209&tPage=1&rp=1&ru=/ta/coding-interviews&qru=/ta/coding-interviews/question-ranking)     [leetcode: Remove Duplicates from Sorted List II](https://leetcode.com/problems/remove-duplicates-from-sorted-list-ii/description/)"
   ]
  },
  {
   "cell_type": "code",
   "execution_count": 1,
   "metadata": {
    "collapsed": true
   },
   "outputs": [],
   "source": [
    "class Solution:\n",
    "    def deleteDuplication(self, head):\n",
    "        if not head:\n",
    "            return\n",
    "        \n",
    "        dummy = ListNode(-1)\n",
    "        dummy.next = head\n",
    "        preNode = dummy\n",
    "        curNode = head\n",
    "        while curNode:\n",
    "            nexNode = curNode.next\n",
    "            if nexNode and nexNode.val == curNode.val:\n",
    "                while nexNode.next and nexNode.next.val == nexNode.val:\n",
    "                    nexNode = nexNode.next\n",
    "                preNode.next = nexNode.next\n",
    "                curNode = nexNode.next\n",
    "            else:\n",
    "                preNode = curNode\n",
    "                curNode = nexNode\n",
    "        return dummy.next"
   ]
  },
  {
   "cell_type": "markdown",
   "metadata": {},
   "source": [
    "### 题目三"
   ]
  },
  {
   "cell_type": "markdown",
   "metadata": {},
   "source": [
    "给定一个排序的链表，删除该链表中重复的结点，重复的结点保留一个。例如，链表1->2->3->3->4->4->5处理后为1->2->3->4->5。[Remove Duplicates from Sorted List](https://leetcode.com/problems/remove-duplicates-from-sorted-list/description/)"
   ]
  },
  {
   "cell_type": "code",
   "execution_count": 3,
   "metadata": {
    "collapsed": true
   },
   "outputs": [],
   "source": [
    "class Solution:\n",
    "    def deleteDuplicates(self, head):\n",
    "        \"\"\"\n",
    "        :type head: ListNode\n",
    "        :rtype: ListNode\n",
    "        \"\"\"\n",
    "        if not head:\n",
    "            return head\n",
    "        \n",
    "        curNode = head\n",
    "        while curNode.next:\n",
    "            if curNode.next.val == curNode.val:\n",
    "                curNode.next = curNode.next.next\n",
    "            else:\n",
    "                curNode = curNode.next\n",
    "        return head"
   ]
  },
  {
   "cell_type": "code",
   "execution_count": null,
   "metadata": {
    "collapsed": true
   },
   "outputs": [],
   "source": []
  }
 ],
 "metadata": {
  "kernelspec": {
   "display_name": "Python 3",
   "language": "python",
   "name": "python3"
  },
  "language_info": {
   "codemirror_mode": {
    "name": "ipython",
    "version": 3
   },
   "file_extension": ".py",
   "mimetype": "text/x-python",
   "name": "python",
   "nbconvert_exporter": "python",
   "pygments_lexer": "ipython3",
   "version": "3.6.1"
  }
 },
 "nbformat": 4,
 "nbformat_minor": 2
}
