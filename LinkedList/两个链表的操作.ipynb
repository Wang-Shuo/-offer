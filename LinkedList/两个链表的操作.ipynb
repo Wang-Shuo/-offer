{
 "cells": [
  {
   "cell_type": "markdown",
   "metadata": {
    "collapsed": true
   },
   "source": [
    "### 题目一：两个链表的第一个公共节点"
   ]
  },
  {
   "cell_type": "markdown",
   "metadata": {},
   "source": [
    "输入两个链表，找出它们的第一个公共节点。假设两个链表中都不存在环。[Intersection of Two Linked Lists](https://leetcode.com/problems/intersection-of-two-linked-lists/description/)"
   ]
  },
  {
   "cell_type": "markdown",
   "metadata": {},
   "source": [
    "思路：\n",
    "1. 首先能想到的蛮力法。在第一个链表上顺序遍历每个节点，每遍历到一个节点，就在第二个链表上顺序遍历每个节点。如果在第二个链表上有一个节点和第一个链表上的节点一样，则说明两个链表在这个节点上重合，于是就找到了它们的公共节点。如果第一个链表的长度为m，第二个链表的长度为n，那么该方法的时间复杂度就是O(mn)，空间复杂度是O(1)。\n",
    "2. 用两个辅助栈。在遍历的过程中，分别把两个链表的节点放入两个栈里，这样两个链表的尾节点就位于两个栈的栈顶，接下来比较两个栈顶的节点是否相同，如果相同，则把栈顶元素弹出，接着比较下一个栈顶，直到找到最后一个相同的节点。这种方法的时间复杂度是O(m+n)，空间复杂度是O(m+n)。\n",
    "3. 不需要辅助栈。首先遍历两个链表得到它们的长度，就能知道哪个链表比较长，以及长的链表比短的链表多几个节点。在第二次遍历的时候，在较长的链表上先走若干步，接着同时在两个链表上遍历，找到的第一个相同的节点就是它们的第一个公共节点。这种方法的时间复杂度是O(m+n)，空间复杂度是O(1)。\n",
    "4. 用集合。定义一个set，遍历其中一个链表，遍历的过程中把每个节点添加到set中。然后再遍历第二个链表，遍历的过程中检查节点是否在set中，如果在，就返回该节点。添加进set的元素可以是链表的节点，也可以是节点在内存中的地址（可以通过Python的id函数获取）。\n",
    "5. 由于是单向链表，每个节点只要一个next节点，因此从第一个公共节点开始，之后它们所有的节点都是重合的，不可能出现分叉。所以链表A接在链表B后面和链表B接在链表A后面，如果有公共节点，那么得到的等长的两个长链表尾部部分元素是一样的。"
   ]
  },
  {
   "cell_type": "code",
   "execution_count": 1,
   "metadata": {
    "collapsed": true
   },
   "outputs": [],
   "source": [
    "\n",
    "class Solution(object):\n",
    "    def getIntersectionNode(self, headA, headB):\n",
    "        \"\"\"\n",
    "        :type head1, head1: ListNode\n",
    "        :rtype: ListNode\n",
    "        \"\"\"\n",
    "        lenA = self.getListLength(headA)\n",
    "        lenB = self.getListLength(headB)\n",
    "        \n",
    "        if lenA > lenB:\n",
    "            headLong = headA\n",
    "            headShort = headB\n",
    "            lenDiff = lenA - lenB\n",
    "        else:\n",
    "            headLong = headB\n",
    "            headShort = headA\n",
    "            lenDiff = lenB - lenA\n",
    "        \n",
    "        for i in range(lenDiff):\n",
    "            headLong = headLong.next\n",
    "            \n",
    "        while headLong and headShort and headLong != headShort:\n",
    "            headLong = headLong.next\n",
    "            headShort = headShort.next\n",
    "        \n",
    "        return headLong\n",
    "        \n",
    "        \n",
    "    def getListLength(self, head):\n",
    "        length = 0\n",
    "        node = head\n",
    "        while node:\n",
    "            length += 1\n",
    "            node = node.next\n",
    "        return length\n",
    "    \n",
    "        "
   ]
  },
  {
   "cell_type": "code",
   "execution_count": 2,
   "metadata": {
    "collapsed": true
   },
   "outputs": [],
   "source": [
    "class Solution(object):\n",
    "    def getIntersectionNode(self, headA, headB):\n",
    "        \"\"\"\n",
    "        :type head1, head1: ListNode\n",
    "        :rtype: ListNode\n",
    "        \"\"\"\n",
    "        if not headA or not headB:\n",
    "            return\n",
    "        \n",
    "        nodeset = set()\n",
    "        nodeA = headA\n",
    "        while nodeA:\n",
    "            nodeset.add(nodeA)\n",
    "            nodeA = nodeA.next\n",
    "            \n",
    "        nodeB = headB\n",
    "        while nodeB:\n",
    "            if nodeB in nodeset:\n",
    "                return nodeB\n",
    "            nodeB = nodeB.next\n",
    "        return None\n",
    "    "
   ]
  },
  {
   "cell_type": "code",
   "execution_count": 3,
   "metadata": {
    "collapsed": true
   },
   "outputs": [],
   "source": [
    "class Solution(object):\n",
    "    def getIntersectionNode(self, headA, headB):\n",
    "        \"\"\"\n",
    "        :type head1, head1: ListNode\n",
    "        :rtype: ListNode\n",
    "        \"\"\"\n",
    "        if not headA or not headB:\n",
    "            return None\n",
    "        \n",
    "        nodeA = headA\n",
    "        nodeB = headB\n",
    "        \n",
    "        while nodeA != nodeB:\n",
    "            if nodeA:\n",
    "                nodeA = nodeA.next\n",
    "            else:\n",
    "                nodeA = headB\n",
    "                \n",
    "            if nodeB:\n",
    "                nodeB = nodeB.next\n",
    "            else:\n",
    "                nodeB = headA\n",
    "                \n",
    "        return nodeA"
   ]
  },
  {
   "cell_type": "markdown",
   "metadata": {},
   "source": [
    "### 题目二：合并两个排序的链表"
   ]
  },
  {
   "cell_type": "markdown",
   "metadata": {},
   "source": [
    "输入两个递增排序的链表，合并这两个链表并使新链表中的节点仍然是递增排序的。[Merge Two Sorted Lists](https://leetcode.com/problems/merge-two-sorted-lists/description/)"
   ]
  },
  {
   "cell_type": "markdown",
   "metadata": {},
   "source": [
    "思路：采用递归的方法。比较两个链表的头节点的值，当第一个链表的头节点的值比第二个链表小时，第一个链表的头节点将是合并后链表的头节点，否则第二个链表的头节点将是合并后链表的头节点。之后采用同样的策略进行合并，因此可以递归地推进。\n",
    "\n",
    "注意的点：要考虑有空链表的情况。其中一个链表为空和两个链表都为空的情况。"
   ]
  },
  {
   "cell_type": "code",
   "execution_count": 4,
   "metadata": {
    "collapsed": true
   },
   "outputs": [],
   "source": [
    "class Solution(object):\n",
    "    def mergeTwoLists(self, l1, l2):\n",
    "        \"\"\"\n",
    "        :type l1: ListNode\n",
    "        :type l2: ListNode\n",
    "        :rtype: ListNode\n",
    "        \"\"\"\n",
    "        if not l1:\n",
    "            return l2\n",
    "        if not l2:\n",
    "            return l1\n",
    "        \n",
    "        if l1.val < l2.val:\n",
    "            mergedHead = l1\n",
    "            mergedHead.next = self.mergeTwoLists(l1.next, l2)\n",
    "        else:\n",
    "            mergedHead = l2\n",
    "            mergedHead.next = self.mergedTwoLists(l1, l2.next)\n",
    "        return mergedHead"
   ]
  },
  {
   "cell_type": "markdown",
   "metadata": {},
   "source": [
    "### 题目三：两个链表表示的数字相加（头节点是最低位）"
   ]
  },
  {
   "cell_type": "markdown",
   "metadata": {},
   "source": [
    "You are given two non-empty linked lists representing two non-negative integers. The digits are stored in reverse order and each of their nodes contain a single digit. Add the two numbers and return it as a linked list.\n",
    "You may assume the two numbers do not contain any leading zero, except the number 0 itself.  [Add Two Numbers](https://leetcode.com/problems/add-two-numbers/description/)\n",
    "\n",
    "Example:\n",
    "> Input: (2 -> 4 -> 3) + (5 -> 6 -> 4)\n",
    "\n",
    "> Output: 7 -> 0 -> 8\n",
    "\n",
    "> Explanation: 342 + 465 = 807."
   ]
  },
  {
   "cell_type": "markdown",
   "metadata": {},
   "source": [
    "思路：设置一个dummy节点和carry变量，carry变量用于管理进位。 "
   ]
  },
  {
   "cell_type": "code",
   "execution_count": 5,
   "metadata": {
    "collapsed": true
   },
   "outputs": [],
   "source": [
    "class Solution(object):\n",
    "    def addTwoNumbers(self, l1, l2):\n",
    "        \"\"\"\n",
    "        :type l1: ListNode\n",
    "        :type l2: ListNode\n",
    "        :rtype: ListNode\n",
    "        \"\"\"\n",
    "        temp = ListNode(-1)\n",
    "        dummy = temp\n",
    "        carry = 0\n",
    "        \n",
    "        while l1 or l2 or carry:\n",
    "            if l1:\n",
    "                carry += l1.val\n",
    "                l1 = l1.next\n",
    "            if l2:\n",
    "                carry += l2.val\n",
    "                l2 = l2.next\n",
    "            \n",
    "            temp.next = ListNode(carry % 10)\n",
    "            temp = temp.next\n",
    "            carry //= 10\n",
    "            \n",
    "        return dummy.next"
   ]
  },
  {
   "cell_type": "markdown",
   "metadata": {},
   "source": [
    "### 题目四：两个链表表示的数字相加（头节点是最高位）"
   ]
  },
  {
   "cell_type": "markdown",
   "metadata": {},
   "source": [
    "You are given two non-empty linked lists representing two non-negative integers. The most significant digit comes first and each of their nodes contain a single digit. Add the two numbers and return it as a linked list.\n",
    "You may assume the two numbers do not contain any leading zero, except the number 0 itself. [Add Two Numbers II](https://leetcode.com/problems/add-two-numbers-ii/description/)\n",
    "\n",
    "Follow up:\n",
    "What if you cannot modify the input lists? In other words, reversing the lists is not allowed.\n",
    "\n",
    "Example：\n",
    "> Input: (7 -> 2 -> 4 -> 3) + (5 -> 6 -> 4)\n",
    "\n",
    "> Output: 7 -> 8 -> 0 -> 7"
   ]
  },
  {
   "cell_type": "markdown",
   "metadata": {},
   "source": [
    "思路：采用两个栈来存储链表节点的数字，这样最低位就会从栈顶依次弹出，和题目三就差不多了。值得注意的是，和的结果输出也要满足头节点是最高位，而运算的过程是从低位到高位，所以每次得到的结果需要插入到结果链表的头部，而不是尾部。"
   ]
  },
  {
   "cell_type": "code",
   "execution_count": null,
   "metadata": {
    "collapsed": true
   },
   "outputs": [],
   "source": [
    "class Solution(object):\n",
    "    def addTwoNumbers(self, l1, l2):\n",
    "        \"\"\"\n",
    "        :type l1: ListNode\n",
    "        :type l2: ListNode\n",
    "        :rtype: ListNode\n",
    "        \"\"\"\n",
    "        stack1 = []\n",
    "        stack2 = []\n",
    "        \n",
    "        while l1:\n",
    "            stack1.append(l1.val)\n",
    "            l1 = l1.next\n",
    "            \n",
    "        while l2:\n",
    "            stack2.append(l2.val)\n",
    "            l2 = l2.next\n",
    "            \n",
    "        carry = 0\n",
    "        head = ListNode(-1)\n",
    "        while stack1 or stack2 or carry:\n",
    "            if stack1:\n",
    "                carry += stack1.pop()\n",
    "            if stack2:\n",
    "                carry += stack2.pop()\n",
    "            \n",
    "            head.val = carry % 10\n",
    "            temp = head\n",
    "            head = ListNode(-1)\n",
    "            head.next = temp\n",
    "            carry //= 10\n",
    "            \n",
    "        return head.next"
   ]
  }
 ],
 "metadata": {
  "kernelspec": {
   "display_name": "Python 3",
   "language": "python",
   "name": "python3"
  },
  "language_info": {
   "codemirror_mode": {
    "name": "ipython",
    "version": 3
   },
   "file_extension": ".py",
   "mimetype": "text/x-python",
   "name": "python",
   "nbconvert_exporter": "python",
   "pygments_lexer": "ipython3",
   "version": "3.6.1"
  }
 },
 "nbformat": 4,
 "nbformat_minor": 2
}
