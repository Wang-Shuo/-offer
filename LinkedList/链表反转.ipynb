{
 "cells": [
  {
   "cell_type": "markdown",
   "metadata": {},
   "source": [
    "### 题目一"
   ]
  },
  {
   "cell_type": "markdown",
   "metadata": {},
   "source": [
    "输入一个链表的头节点，从尾到头反过来打印出每个节点的值。要求不改变原链表的结构。"
   ]
  },
  {
   "cell_type": "code",
   "execution_count": 1,
   "metadata": {
    "collapsed": true
   },
   "outputs": [],
   "source": [
    "class ListNode:\n",
    "    def __init__(self, x):\n",
    "        self.val = x\n",
    "        self.next = None"
   ]
  },
  {
   "cell_type": "markdown",
   "metadata": {},
   "source": [
    "思路一：遍历从头到尾，输出从尾到头，后进先出，想到用栈实现这种顺序。遍历时每读取一个节点，就把该节点的值放到栈中，遍历完整个链表后，再从栈顶逐个输出节点的值。"
   ]
  },
  {
   "cell_type": "code",
   "execution_count": 2,
   "metadata": {
    "collapsed": true
   },
   "outputs": [],
   "source": [
    "class Solution:\n",
    "    def PrintReverseList(self, head):\n",
    "        \n",
    "        curNode = head\n",
    "        stack = []\n",
    "        while curNode:\n",
    "            stack.append(curNode.val)\n",
    "            curNode = curNode.next\n",
    "        \n",
    "        while len(stack) > 0:\n",
    "            print(stack.pop(), end = ' ')"
   ]
  },
  {
   "cell_type": "markdown",
   "metadata": {},
   "source": [
    "思路二：利用递归。每遍历到一个节点时，先递归输出它的后一个节点，再输出该节点本身。"
   ]
  },
  {
   "cell_type": "code",
   "execution_count": 3,
   "metadata": {
    "collapsed": true
   },
   "outputs": [],
   "source": [
    "class Solution:\n",
    "    def PrintReverseList(self, head):\n",
    "        if head:\n",
    "            if head.next:\n",
    "                self.PrintReverseList(head.next)\n",
    "            print(head.val, end = ' ')"
   ]
  },
  {
   "cell_type": "markdown",
   "metadata": {},
   "source": [
    "### 题目二"
   ]
  },
  {
   "cell_type": "markdown",
   "metadata": {
    "collapsed": true
   },
   "source": [
    "输入一个链表的头节点，在原来链表的基础上反转这个链表。[leetcode](https://leetcode.com/problems/reverse-linked-list/description/)"
   ]
  },
  {
   "cell_type": "markdown",
   "metadata": {},
   "source": [
    "思路一：迭代。每遍历到一个节点就修改一次。"
   ]
  },
  {
   "cell_type": "code",
   "execution_count": 7,
   "metadata": {
    "collapsed": true
   },
   "outputs": [],
   "source": [
    "class Solution:\n",
    "    def ReverseList(self, head):\n",
    "        curNode = head\n",
    "        preNode = None\n",
    "        while curNode:\n",
    "            nexNode = curNode.next\n",
    "            curNode.next = preNode\n",
    "            preNode = curNode\n",
    "            curNode = nexNode\n",
    "        head = preNode\n",
    "        return head"
   ]
  },
  {
   "cell_type": "markdown",
   "metadata": {},
   "source": [
    "思路二：递归。"
   ]
  },
  {
   "cell_type": "code",
   "execution_count": 8,
   "metadata": {
    "collapsed": true
   },
   "outputs": [],
   "source": [
    "class Solution:\n",
    "    def ReverseList(self, head):\n",
    "        if head and head.next:\n",
    "            nexNode = head.next\n",
    "            newHead = self.ReverseList(nexNode)\n",
    "            nexNode.next = head\n",
    "            head.next = None\n",
    "            return newHead\n",
    "        return head"
   ]
  },
  {
   "cell_type": "markdown",
   "metadata": {
    "collapsed": true
   },
   "source": [
    "### 题目三"
   ]
  },
  {
   "cell_type": "markdown",
   "metadata": {},
   "source": [
    "反转链表的一部分，从位置m到位置n，1 <= m <= n < 链表的长度。[leetcode](https://leetcode.com/problems/reverse-linked-list-ii/description/)"
   ]
  },
  {
   "cell_type": "code",
   "execution_count": 10,
   "metadata": {
    "collapsed": true
   },
   "outputs": [],
   "source": [
    "class Solution:\n",
    "    def reverseBetween(self, head, m, n):\n",
    "        \"\"\"\n",
    "        :type head: ListNode\n",
    "        :type m: int\n",
    "        :type n: int\n",
    "        :rtype: ListNode\n",
    "        \"\"\"\n",
    "        if not head or head.next:\n",
    "            return head\n",
    "        \n",
    "        dummy = ListNode(-1)\n",
    "        dummy.next = head\n",
    "        \n",
    "        preRevNode = dummy\n",
    "        for _ in range(m - 1):\n",
    "            preRevNode = preRevNode.next\n",
    "        \n",
    "        tailRevNode = preRevNode.next\n",
    "        headRevNode = tailRevNode\n",
    "        curNode = tailRevNode.next\n",
    "        for _ in range(n - m):\n",
    "            tailRevNode.next = curNode.next\n",
    "            curNode.next = headRevNode\n",
    "            headRevNode = curNode\n",
    "            curNode = tailRevNode.next\n",
    "            preRevNode.next = headRevNode\n",
    "            \n",
    "        return dummy.next"
   ]
  },
  {
   "cell_type": "code",
   "execution_count": null,
   "metadata": {
    "collapsed": true
   },
   "outputs": [],
   "source": []
  }
 ],
 "metadata": {
  "kernelspec": {
   "display_name": "Python 3",
   "language": "python",
   "name": "python3"
  },
  "language_info": {
   "codemirror_mode": {
    "name": "ipython",
    "version": 3
   },
   "file_extension": ".py",
   "mimetype": "text/x-python",
   "name": "python",
   "nbconvert_exporter": "python",
   "pygments_lexer": "ipython3",
   "version": "3.6.1"
  }
 },
 "nbformat": 4,
 "nbformat_minor": 2
}
