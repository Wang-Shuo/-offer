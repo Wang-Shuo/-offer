{
 "cells": [
  {
   "cell_type": "markdown",
   "metadata": {},
   "source": [
    "### 题目一：链表中是否存在环"
   ]
  },
  {
   "cell_type": "markdown",
   "metadata": {},
   "source": [
    "给定一个链表，判断该链表中是否含有环。[Linked List Cycle](https://leetcode.com/problems/linked-list-cycle/description/)"
   ]
  },
  {
   "cell_type": "markdown",
   "metadata": {},
   "source": [
    "思路：定义两个指针，同时从链表的头节点出发，一个指针一次走一步，另一个指针一次走两步，如果走得快的指针追上了走得慢的指针，那么链表就包含环；如果走得快的指针走到了链表的末尾都没有追上第一个指针，那么链表就不包含环。"
   ]
  },
  {
   "cell_type": "code",
   "execution_count": 1,
   "metadata": {
    "collapsed": true
   },
   "outputs": [],
   "source": [
    "class Solution(object):\n",
    "    def hasCycle(self, head):\n",
    "        \"\"\"\n",
    "        :type head: ListNode\n",
    "        :rtype: bool\n",
    "        \"\"\"\n",
    "        if not head:\n",
    "            return False\n",
    "        \n",
    "        slow = head\n",
    "        fast = head\n",
    "        while fast.next and fast.next.next:\n",
    "            slow = slow.next\n",
    "            fast = fast.next.next\n",
    "            if slow == fast:\n",
    "                return True\n",
    "        return False"
   ]
  },
  {
   "cell_type": "markdown",
   "metadata": {},
   "source": [
    "### 题目二：链表中环的入口节点"
   ]
  },
  {
   "cell_type": "markdown",
   "metadata": {},
   "source": [
    "如果一个链表中包含环，如找出环的入口节点？[Linked List Cycle II](https://leetcode.com/problems/linked-list-cycle-ii/description/)"
   ]
  },
  {
   "cell_type": "markdown",
   "metadata": {},
   "source": [
    "思路：第一步需要判断该链表中是否包含环。这个问题上一个题目已经解答了。第二步是如何找到环的入口。同样可以借助两个指针的方法。如果链表中环有n个节点，则一个指针先在链表上向前移动n步，然后两个指针以相同的速度向前移动。当后走的指针指向环的入口节点时，先走的指针已经围绕着环走了一圈，又回到了入口节点。而第一步判断是否存在环的过程中，两个指针相遇的节点一定是在环中，可以从这个节点出发，一边继续向前移动一边计数，当再次回到这个节点时，就可以得到环中节点数了。"
   ]
  },
  {
   "cell_type": "code",
   "execution_count": 2,
   "metadata": {
    "collapsed": true
   },
   "outputs": [],
   "source": [
    "class Solution(object):\n",
    "    def detectCycle(self, head):\n",
    "        \"\"\"\n",
    "        :type head: ListNode\n",
    "        :rtype: ListNode\n",
    "        \"\"\"\n",
    "        meetNode = self.findMeetNode(head)\n",
    "        if not meetNode:\n",
    "            return\n",
    "        \n",
    "        nodesInCycle = 1\n",
    "        node = meetNode\n",
    "        while node.next != meetNode:\n",
    "            node = node.next\n",
    "            nodesInCycle += 1\n",
    "        \n",
    "        ahead = head\n",
    "        for i in range(nodesInCycle):\n",
    "            ahead = ahead.next\n",
    "        \n",
    "        behind = head\n",
    "        while ahead != behind:\n",
    "            ahead = ahead.next\n",
    "            behind = behind.next\n",
    "            \n",
    "        return ahead\n",
    "        \n",
    "        \n",
    "    def findMeetNode(self, head):\n",
    "        # if there is a cycle in the linked list, the slow and fast pointer should meet somewhere in the cycle.\n",
    "        if not head:\n",
    "            return\n",
    "        \n",
    "        slow = head\n",
    "        fast = head\n",
    "        while fast.next and fast.next.next:\n",
    "            slow = slow.next\n",
    "            fast = fast.next.next\n",
    "            if slow == fast:\n",
    "                return slow\n",
    "        return\n",
    "        "
   ]
  },
  {
   "cell_type": "code",
   "execution_count": null,
   "metadata": {
    "collapsed": true
   },
   "outputs": [],
   "source": []
  }
 ],
 "metadata": {
  "kernelspec": {
   "display_name": "Python 3",
   "language": "python",
   "name": "python3"
  },
  "language_info": {
   "codemirror_mode": {
    "name": "ipython",
    "version": 3
   },
   "file_extension": ".py",
   "mimetype": "text/x-python",
   "name": "python",
   "nbconvert_exporter": "python",
   "pygments_lexer": "ipython3",
   "version": "3.6.1"
  }
 },
 "nbformat": 4,
 "nbformat_minor": 2
}
