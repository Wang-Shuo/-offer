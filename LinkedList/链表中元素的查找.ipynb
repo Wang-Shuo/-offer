{
 "cells": [
  {
   "cell_type": "markdown",
   "metadata": {},
   "source": [
    "### 题目一：链表中倒数第k个节点"
   ]
  },
  {
   "cell_type": "markdown",
   "metadata": {},
   "source": [
    "输入一个链表，输出该链表中倒数第k个节点。计数从1开始，即链表的尾节点是倒数第1个节点。"
   ]
  },
  {
   "cell_type": "markdown",
   "metadata": {},
   "source": [
    "思路：常规的想法是，倒数第k个节点就是从头节点开始的第(n-k+1)个节点，假设链表的长度为n。所以这种做法需要从头开始遍历链表两次：第一次统计链表中节点的个数，第二次遍历走到第k个节点。\n",
    "\n",
    "为了实现只遍历一次就能找到倒数第k个节点，可以定义**两个指针**。**第一个指针**从链表的头指针开始遍历向前走(k-1)步，期间**第二个指针**保持不动；从第k步开始，第二个指针也开始从链表的头指针开始遍历。两个指针的速度一致，每次走一个节点。当走在前面的指针到达链表的尾节点时，走在后面的指针正好指向倒数第k个节点。"
   ]
  },
  {
   "cell_type": "code",
   "execution_count": null,
   "metadata": {
    "collapsed": true
   },
   "outputs": [],
   "source": []
  }
 ],
 "metadata": {
  "kernelspec": {
   "display_name": "Python 3",
   "language": "python",
   "name": "python3"
  },
  "language_info": {
   "codemirror_mode": {
    "name": "ipython",
    "version": 3
   },
   "file_extension": ".py",
   "mimetype": "text/x-python",
   "name": "python",
   "nbconvert_exporter": "python",
   "pygments_lexer": "ipython3",
   "version": "3.6.1"
  }
 },
 "nbformat": 4,
 "nbformat_minor": 2
}
