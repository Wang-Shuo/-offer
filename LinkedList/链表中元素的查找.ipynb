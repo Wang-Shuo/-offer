{
 "cells": [
  {
   "cell_type": "code",
   "execution_count": 1,
   "metadata": {
    "collapsed": true
   },
   "outputs": [],
   "source": [
    "class ListNode:\n",
    "    def __init__(self, x):\n",
    "        self.val = x\n",
    "        self.next = None"
   ]
  },
  {
   "cell_type": "markdown",
   "metadata": {},
   "source": [
    "### 题目一：链表中倒数第k个节点"
   ]
  },
  {
   "cell_type": "markdown",
   "metadata": {},
   "source": [
    "输入一个链表，输出该链表中倒数第k个节点。计数从1开始，即链表的尾节点是倒数第1个节点。[nowcoder：链表中倒数第k个结点](https://www.nowcoder.com/practice/529d3ae5a407492994ad2a246518148a?tpId=13&tqId=11167&tPage=1&rp=1&ru=%2Fta%2Fcoding-interviews&qru=%2Fta%2Fcoding-interviews%2Fquestion-ranking)"
   ]
  },
  {
   "cell_type": "markdown",
   "metadata": {},
   "source": [
    "思路：常规的想法是，倒数第k个节点就是从头节点开始的第(n-k+1)个节点，假设链表的长度为n。所以这种做法需要从头开始遍历链表两次：第一次统计链表中节点的个数，第二次遍历走到第k个节点。\n",
    "\n",
    "为了实现只遍历一次就能找到倒数第k个节点，可以定义**两个指针**。**第一个指针**从链表的头指针开始遍历向前走(k-1)步，期间**第二个指针**保持不动；从第k步开始，第二个指针也开始从链表的头指针开始遍历。两个指针的速度一致，每次走一个节点。当走在前面的指针到达链表的尾节点时，走在后面的指针正好指向倒数第k个节点。\n",
    "\n",
    "注意的点：考虑k=0和k大于链表节点总数的情况。"
   ]
  },
  {
   "cell_type": "code",
   "execution_count": 2,
   "metadata": {
    "collapsed": true
   },
   "outputs": [],
   "source": [
    "class Solution:\n",
    "    def FindKthToTail(self, head, k):\n",
    "        if not head or k == 0:\n",
    "            return\n",
    "        \n",
    "        ahead = head\n",
    "        for i in range(k - 1):\n",
    "            if ahead.next:\n",
    "                ahead = ahead.next\n",
    "            else:\n",
    "                return\n",
    "            \n",
    "        behind = head\n",
    "        while ahead.next:\n",
    "            ahead = ahead.next\n",
    "            behind = behind.next\n",
    "            \n",
    "        return behind"
   ]
  },
  {
   "cell_type": "markdown",
   "metadata": {},
   "source": [
    "### 题目二：删除链表中倒数第n个节点"
   ]
  },
  {
   "cell_type": "markdown",
   "metadata": {},
   "source": [
    "给定一个链表，删除该链表倒数第n个节点，返回头节点。[leetcode: Remove Nth Node From End of List](https://leetcode.com/problems/remove-nth-node-from-end-of-list/description/)"
   ]
  },
  {
   "cell_type": "markdown",
   "metadata": {},
   "source": [
    "思路：按照第一题的思路已经可以找到倒数第n个节点，题目要求删除这个节点，所以可以先找到倒数第(n+1)个节点，再把倒数第(n+1)个节点的下一个节点指向倒数第n个节点的下一个节点。\n",
    "\n",
    "注意的点：当要删除的节点是头节点时，就无法找到头节点的前一个节点，所以是先添加一个dummy节点指向头节点。"
   ]
  },
  {
   "cell_type": "code",
   "execution_count": 3,
   "metadata": {
    "collapsed": true
   },
   "outputs": [],
   "source": [
    "class Solution:\n",
    "    def removeNthFromEnd(self, head, n):\n",
    "        \"\"\"\n",
    "        :type head: ListNode\n",
    "        :type n: int\n",
    "        :rtype: ListNode\n",
    "        \"\"\"\n",
    "        if not head or n == 0:\n",
    "            return\n",
    "        \n",
    "        dummy = ListNode(-1)\n",
    "        dummy.next = head\n",
    "        \n",
    "        ahead = dummy\n",
    "        for i in range(n):\n",
    "            if ahead.next:\n",
    "                ahead = ahead.next\n",
    "            else:\n",
    "                return\n",
    "            \n",
    "        behind = dummy\n",
    "        while ahead.next:\n",
    "            ahead = ahead.next\n",
    "            behind = behind.next\n",
    "            \n",
    "        behind.next = behind.next.next\n",
    "        \n",
    "        return dummy.next"
   ]
  },
  {
   "cell_type": "markdown",
   "metadata": {},
   "source": [
    "### 题目三：链表的中间节点"
   ]
  },
  {
   "cell_type": "markdown",
   "metadata": {},
   "source": [
    "如果链表中的节点总数为奇数，则返回中间节点；如果节点总数是偶数，则返回中间两个节点的任意一个。"
   ]
  },
  {
   "cell_type": "markdown",
   "metadata": {},
   "source": [
    "思路：借鉴上面两题的思路，同样可以定义两个指针，一个指针一次走一步，另一个指针一次走两步，当走得快的指针走到链表的末尾时，走得慢的指针正好在链表的中间。"
   ]
  },
  {
   "cell_type": "code",
   "execution_count": 9,
   "metadata": {
    "collapsed": true
   },
   "outputs": [],
   "source": [
    "class Solution:\n",
    "    def FindMidNode(self, head):\n",
    "        if not head:\n",
    "            return\n",
    "        \n",
    "        slow = head\n",
    "        fast = head\n",
    "        while fast.next and fast.next.next:\n",
    "            slow = slow.next\n",
    "            fast = fast.next.next\n",
    "            \n",
    "        return slow"
   ]
  },
  {
   "cell_type": "code",
   "execution_count": null,
   "metadata": {
    "collapsed": true
   },
   "outputs": [],
   "source": []
  }
 ],
 "metadata": {
  "kernelspec": {
   "display_name": "Python 3",
   "language": "python",
   "name": "python3"
  },
  "language_info": {
   "codemirror_mode": {
    "name": "ipython",
    "version": 3
   },
   "file_extension": ".py",
   "mimetype": "text/x-python",
   "name": "python",
   "nbconvert_exporter": "python",
   "pygments_lexer": "ipython3",
   "version": "3.6.1"
  }
 },
 "nbformat": 4,
 "nbformat_minor": 2
}
