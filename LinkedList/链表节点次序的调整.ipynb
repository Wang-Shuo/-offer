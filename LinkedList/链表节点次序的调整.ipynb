{
 "cells": [
  {
   "cell_type": "markdown",
   "metadata": {
    "collapsed": true
   },
   "source": [
    "### 题目一：链表奇偶节点"
   ]
  },
  {
   "cell_type": "markdown",
   "metadata": {},
   "source": [
    "Given a singly linked list, group all odd nodes together followed by the even nodes. Please note here we are talking about the node number and not the value in the nodes.\n",
    "You should try to do it in place. The program should run in O(1) space complexity and O(nodes) time complexity.  [Odd Even Linked List](https://leetcode.com/problems/odd-even-linked-list/description/)\n",
    "\n",
    "Example:\n",
    "\n",
    "> Input: 2->1->3->5->6->4->7->NULL\n",
    "\n",
    "> Output: 2->3->6->7->1->5->4->NULL"
   ]
  },
  {
   "cell_type": "code",
   "execution_count": 1,
   "metadata": {
    "collapsed": true
   },
   "outputs": [],
   "source": [
    "class Solution:\n",
    "    def oddEvenList(self, head):\n",
    "        \"\"\"\n",
    "        :type head: ListNode\n",
    "        :rtype: ListNode\n",
    "        \"\"\"\n",
    "        if not head:\n",
    "            return\n",
    "        \n",
    "        odd = head\n",
    "        even = head.next\n",
    "        while even and even.next:\n",
    "            node = even.next\n",
    "            even.next = node.next\n",
    "            node.next = odd.next\n",
    "            odd.next = node\n",
    "            \n",
    "            odd = odd.next\n",
    "            even = even.next\n",
    "        \n",
    "        return head"
   ]
  },
  {
   "cell_type": "markdown",
   "metadata": {},
   "source": [
    "### 题目二"
   ]
  },
  {
   "cell_type": "markdown",
   "metadata": {},
   "source": [
    "Given a singly linked list L: L0→L1→…→Ln-1→Ln,\n",
    "reorder it to: L0→Ln→L1→Ln-1→L2→Ln-2→…\n",
    "You may not modify the values in the list's nodes, only nodes itself may be changed. [Reorder List](https://leetcode.com/problems/reorder-list/description/)\n",
    "\n",
    "Example 1:\n",
    "> Given 1->2->3->4, reorder it to 1->4->2->3.\n",
    "\n",
    "Example 2:\n",
    "> Given 1->2->3->4->5, reorder it to 1->5->2->4->3."
   ]
  },
  {
   "cell_type": "markdown",
   "metadata": {
    "collapsed": true
   },
   "source": [
    "思路：分三步解决这个问题：\n",
    "1. 第一步通过两个指针法来找到链表的中间节点；\n",
    "2. 第二步反转链表的后半部分；\n",
    "3. 第三步将链表的后半部分一步一步插入前半部分。"
   ]
  },
  {
   "cell_type": "code",
   "execution_count": 1,
   "metadata": {
    "collapsed": true
   },
   "outputs": [],
   "source": [
    "class Solution:\n",
    "    def reorderList(self, head):\n",
    "        \"\"\"\n",
    "        :type head: ListNode\n",
    "        :rtype: void Do not return anything, modify head in-place instead.\n",
    "        \"\"\"\n",
    "        if not head or not head.next:\n",
    "            return\n",
    "        \n",
    "        # find the middle node\n",
    "        slow = head\n",
    "        fast = head\n",
    "        while fast.next and fast.next.next:\n",
    "            slow = slow.next\n",
    "            fast = fast.next.next\n",
    "            \n",
    "        # reverse the second part of linked list\n",
    "        preNode = None\n",
    "        curNode = slow.next\n",
    "        while curNode:\n",
    "            nexNode = curNode.next\n",
    "            curNode.next = preNode\n",
    "            preNode = curNode\n",
    "            curNode = nexNode\n",
    "        slow.next = preNode\n",
    "        \n",
    "        # reorder one by one\n",
    "        p1 = head\n",
    "        p2 = slow.next\n",
    "        while p1 != slow:\n",
    "            slow.next = p2.next\n",
    "            p2.next = p1.next\n",
    "            p1.next = p2\n",
    "            p1 = p2.next\n",
    "            p2 = slow.next"
   ]
  },
  {
   "cell_type": "markdown",
   "metadata": {
    "collapsed": true
   },
   "source": [
    "### 题目三"
   ]
  },
  {
   "cell_type": "markdown",
   "metadata": {},
   "source": [
    "Given a linked list and a value x, partition it such that all nodes less than x come before nodes greater than or equal to x.\n",
    "You should preserve the original relative order of the nodes in each of the two partitions. [Partition List](https://leetcode.com/problems/partition-list/description/)\n",
    "\n",
    "Example:\n",
    "\n",
    "> Input: head = 1->4->3->2->5->2, x = 3\n",
    "\n",
    "> Output: 1->2->2->4->3->5"
   ]
  },
  {
   "cell_type": "markdown",
   "metadata": {},
   "source": [
    "思路：创建两个dummy节点，用于串接分离后的两部分。在遍历链表的过程中比较节点的值和给定值的大小，小于给定值的节点连接到一个分链表的后面，否则连接到另一个分链表的后面。最后把较大的部分连接到较小的部分即可。注意的一点是，较大的部分尾节点需要指定为空节点。"
   ]
  },
  {
   "cell_type": "code",
   "execution_count": 2,
   "metadata": {
    "collapsed": true
   },
   "outputs": [],
   "source": [
    "class Solution:\n",
    "    def partition(self, head, x):\n",
    "        \"\"\"\n",
    "        :type head: ListNode\n",
    "        :type x: int\n",
    "        :rtype: ListNode\n",
    "        \"\"\"\n",
    "        if not head:\n",
    "            return\n",
    "        \n",
    "        lHead = ListNode(-1)\n",
    "        gHead = ListNode(-1)\n",
    "        \n",
    "        node = head\n",
    "        lnode = lHead\n",
    "        gnode = gHead\n",
    "        while node:\n",
    "            if node.val < x:\n",
    "                lnode.next = node\n",
    "                lnode = lnode.next\n",
    "            else:\n",
    "                gnode.next = node\n",
    "                gnode = gnode.next\n",
    "            node = node.next\n",
    "                \n",
    "        # I forgot to add this line and can't pass first time.\n",
    "        gnode.next = None\n",
    "        lnode.next = gHead.next\n",
    "        return lHead.next"
   ]
  },
  {
   "cell_type": "markdown",
   "metadata": {
    "collapsed": true
   },
   "source": [
    "### 题目四：链表的旋转"
   ]
  },
  {
   "cell_type": "markdown",
   "metadata": {},
   "source": [
    "Given a linked list, rotate the list to the right by k places, where k is non-negative. [rotate list](https://leetcode.com/problems/rotate-list/description/)\n",
    "\n",
    "Example 1:\n",
    "\n",
    "> Input: 1->2->3->4->5->NULL, k = 2\n",
    "\n",
    "> Output: 4->5->1->2->3->NULL\n",
    "\n",
    "> Explanation:\n",
    "\n",
    "> rotate 1 steps to the right: 5->1->2->3->4->NULL\n",
    "\n",
    "> rotate 2 steps to the right: 4->5->1->2->3->NULL\n",
    "\n",
    "Example 2:\n",
    "\n",
    "> Input: 0->1->2->NULL, k = 4\n",
    "\n",
    "> Output: 2->0->1->NULL\n",
    "\n",
    "> Explanation:\n",
    "\n",
    "> rotate 1 steps to the right: 2->0->1->NULL\n",
    "\n",
    "> rotate 2 steps to the right: 1->2->0->NULL\n",
    "\n",
    "> rotate 3 steps to the right: 0->1->2->NULL\n",
    "\n",
    "> rotate 4 steps to the right: 2->0->1->NULL"
   ]
  },
  {
   "cell_type": "markdown",
   "metadata": {},
   "source": [
    "思路：分三步来解决这个问题：\n",
    "1. 遍历得到链表的长度，k对链表长度取余，得到等效的旋转步数；\n",
    "2. 根据等效的旋转步数，分离链表为两部分，右半部分为旋转后链表的前半部分；\n",
    "3. 将左半部分连接到右半部分的尾部，完成旋转。"
   ]
  },
  {
   "cell_type": "code",
   "execution_count": 1,
   "metadata": {
    "collapsed": true
   },
   "outputs": [],
   "source": [
    "class Solution:\n",
    "    def rotateRight(self, head, k):\n",
    "        \"\"\"\n",
    "        :type head: ListNode\n",
    "        :type k: int\n",
    "        :rtype: ListNode\n",
    "        \"\"\"\n",
    "        if not head:\n",
    "            return head\n",
    "        \n",
    "        # compute the length of linked list\n",
    "        length = 0\n",
    "        node = head\n",
    "        while node:\n",
    "            length += 1\n",
    "            node = node.next\n",
    "        \n",
    "        # compute the equal steps\n",
    "        steps = k % length\n",
    "        # this equals no rotation\n",
    "        if steps == 0:\n",
    "            return head\n",
    "        \n",
    "        # get the new head node after rotation\n",
    "        node = head\n",
    "        for i in range(length - steps - 1):\n",
    "            node = node.next\n",
    "        newHead = node.next\n",
    "        node.next = None\n",
    "        \n",
    "        # rotate the right part of linked list to the left\n",
    "        node = newHead\n",
    "        for j in range(steps - 1):\n",
    "            node = node.next\n",
    "        node.next = head\n",
    "        \n",
    "        return newHead"
   ]
  },
  {
   "cell_type": "markdown",
   "metadata": {},
   "source": [
    "### 题目五：链表两两相邻节点的交换"
   ]
  },
  {
   "cell_type": "markdown",
   "metadata": {},
   "source": [
    "Given a linked list, swap every two adjacent nodes and return its head. [Swap Nodes in Pairs](https://leetcode.com/problems/swap-nodes-in-pairs/description/)\n",
    "\n",
    "Example:\n",
    "\n",
    "> Given 1->2->3->4, you should return the list as 2->1->4->3."
   ]
  },
  {
   "cell_type": "markdown",
   "metadata": {},
   "source": [
    "思路一：采用递归。\n",
    "\n",
    "思路二：遍历的过程中修改指针两两交换。"
   ]
  },
  {
   "cell_type": "code",
   "execution_count": 2,
   "metadata": {
    "collapsed": true
   },
   "outputs": [],
   "source": [
    "class Solution:\n",
    "    def swapPairs(self, head):\n",
    "        \"\"\"\n",
    "        :type head: ListNode\n",
    "        :rtype: ListNode\n",
    "        \"\"\"\n",
    "        if not head or not head.next:\n",
    "            return head\n",
    "        \n",
    "        node1 = head\n",
    "        node2 = head.next\n",
    "        node3 = head.next.next\n",
    "        \n",
    "        node2.next = node1\n",
    "        node1.next = self.swapPairs(node3)\n",
    "        return node2"
   ]
  },
  {
   "cell_type": "code",
   "execution_count": 3,
   "metadata": {
    "collapsed": true
   },
   "outputs": [],
   "source": [
    "class Solution:\n",
    "    def swapPairs(self, head):\n",
    "        \"\"\"\n",
    "        :type head: ListNode\n",
    "        :rtype: ListNode\n",
    "        \"\"\"\n",
    "        if not head or not head.next:\n",
    "            return head\n",
    "        \n",
    "        dummy = ListNode(-1)\n",
    "        dummy.next = head\n",
    "        \n",
    "        preNode = dummy\n",
    "        curNode = head\n",
    "        while curNode and curNode.next:\n",
    "            nexNode = curNode.next\n",
    "            curNode.next = nexNode.next\n",
    "            nexNode.next = curNode\n",
    "            preNode.next = nexNode\n",
    "            preNode = curNode\n",
    "            curNode = curNode.next\n",
    "            \n",
    "        return dummy.next"
   ]
  },
  {
   "cell_type": "code",
   "execution_count": null,
   "metadata": {
    "collapsed": true
   },
   "outputs": [],
   "source": []
  }
 ],
 "metadata": {
  "kernelspec": {
   "display_name": "Python 3",
   "language": "python",
   "name": "python3"
  },
  "language_info": {
   "codemirror_mode": {
    "name": "ipython",
    "version": 3
   },
   "file_extension": ".py",
   "mimetype": "text/x-python",
   "name": "python",
   "nbconvert_exporter": "python",
   "pygments_lexer": "ipython3",
   "version": "3.6.1"
  }
 },
 "nbformat": 4,
 "nbformat_minor": 2
}
