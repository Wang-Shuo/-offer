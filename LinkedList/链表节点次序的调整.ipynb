{
 "cells": [
  {
   "cell_type": "markdown",
   "metadata": {
    "collapsed": true
   },
   "source": [
    "### 题目一：链表奇偶节点"
   ]
  },
  {
   "cell_type": "markdown",
   "metadata": {},
   "source": [
    "Given a singly linked list, group all odd nodes together followed by the even nodes. Please note here we are talking about the node number and not the value in the nodes.\n",
    "You should try to do it in place. The program should run in O(1) space complexity and O(nodes) time complexity.  [Odd Even Linked List](https://leetcode.com/problems/odd-even-linked-list/description/)\n",
    "\n",
    "Example:\n",
    "\n",
    "> Input: 2->1->3->5->6->4->7->NULL\n",
    "\n",
    "> Output: 2->3->6->7->1->5->4->NULL"
   ]
  },
  {
   "cell_type": "code",
   "execution_count": 1,
   "metadata": {
    "collapsed": true
   },
   "outputs": [],
   "source": [
    "class Solution:\n",
    "    def oddEvenList(self, head):\n",
    "        \"\"\"\n",
    "        :type head: ListNode\n",
    "        :rtype: ListNode\n",
    "        \"\"\"\n",
    "        if not head:\n",
    "            return\n",
    "        \n",
    "        odd = head\n",
    "        even = head.next\n",
    "        while even and even.next:\n",
    "            node = even.next\n",
    "            even.next = node.next\n",
    "            node.next = odd.next\n",
    "            odd.next = node\n",
    "            \n",
    "            odd = odd.next\n",
    "            even = even.next\n",
    "        \n",
    "        return head"
   ]
  },
  {
   "cell_type": "markdown",
   "metadata": {},
   "source": [
    "### 题目二"
   ]
  },
  {
   "cell_type": "markdown",
   "metadata": {},
   "source": [
    "Given a singly linked list L: L0→L1→…→Ln-1→Ln,\n",
    "reorder it to: L0→Ln→L1→Ln-1→L2→Ln-2→…\n",
    "You may not modify the values in the list's nodes, only nodes itself may be changed. [Reorder List](https://leetcode.com/problems/reorder-list/description/)\n",
    "\n",
    "Example 1:\n",
    "> Given 1->2->3->4, reorder it to 1->4->2->3.\n",
    "\n",
    "Example 2:\n",
    "> Given 1->2->3->4->5, reorder it to 1->5->2->4->3."
   ]
  },
  {
   "cell_type": "code",
   "execution_count": null,
   "metadata": {
    "collapsed": true
   },
   "outputs": [],
   "source": []
  }
 ],
 "metadata": {
  "kernelspec": {
   "display_name": "Python 3",
   "language": "python",
   "name": "python3"
  },
  "language_info": {
   "codemirror_mode": {
    "name": "ipython",
    "version": 3
   },
   "file_extension": ".py",
   "mimetype": "text/x-python",
   "name": "python",
   "nbconvert_exporter": "python",
   "pygments_lexer": "ipython3",
   "version": "3.6.1"
  }
 },
 "nbformat": 4,
 "nbformat_minor": 2
}
