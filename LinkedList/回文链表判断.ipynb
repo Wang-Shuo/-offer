{
 "cells": [
  {
   "cell_type": "markdown",
   "metadata": {},
   "source": [
    "### 题目"
   ]
  },
  {
   "cell_type": "markdown",
   "metadata": {},
   "source": [
    "给定一个链表，判断该链表的节点序列值是否符合回文的性质。假设链表中不包含环，空链表和单个节点的链表看作符合回文的性质[Palindrome Linked List](https://leetcode.com/problems/palindrome-linked-list/description/)"
   ]
  },
  {
   "cell_type": "markdown",
   "metadata": {},
   "source": [
    "思路一：一种简单的思路是遍历链表的过程中，用一个Python列表去存储每个节点的值，然后使用Python列表的trick去比较列表的正序和逆序是否相等。这种方法的时间和空间复杂度都是O(n)。\n",
    "\n",
    "思路二：先定义一快一慢两个指针找到链表的中间节点，将链表分成两个部分，再反转其中一个部分，最后比较两个部分是否相同。这种方法的时间复杂度是O(n)，空间复杂度是O(1)。"
   ]
  },
  {
   "cell_type": "code",
   "execution_count": 1,
   "metadata": {
    "collapsed": true
   },
   "outputs": [],
   "source": [
    "class Solution:\n",
    "    def isPalindrome(self, head):\n",
    "        \"\"\"\n",
    "        :type head: ListNode\n",
    "        :rtype: bool\n",
    "        \"\"\"\n",
    "        stack = []\n",
    "        node = head\n",
    "        while node:\n",
    "            stack.append(node.val)\n",
    "            node = node.next\n",
    "            \n",
    "        return stack == stack[::-1]"
   ]
  },
  {
   "cell_type": "code",
   "execution_count": 1,
   "metadata": {
    "collapsed": true
   },
   "outputs": [],
   "source": [
    "class Solution(object):\n",
    "    def isPalindrome(self, head):\n",
    "        \"\"\"\n",
    "        :type head: ListNode\n",
    "        :rtype: bool\n",
    "        \"\"\"\n",
    "        if not head:\n",
    "            return True\n",
    "        \n",
    "        # find the mid node\n",
    "        slow = head\n",
    "        fast = head\n",
    "        while fast.next and fast.next.next:\n",
    "            slow = slow.next\n",
    "            fast = fast.next.next\n",
    "            \n",
    "        # reverse the second part\n",
    "        curNode = slow.next\n",
    "        slow.next = None\n",
    "        preNode = None\n",
    "        while curNode:\n",
    "            nexNode = curNode.next\n",
    "            curNode.next = preNode\n",
    "            preNode = curNode\n",
    "            curNode = nexNode\n",
    "            \n",
    "        # compare two part of linked list\n",
    "        while preNode:\n",
    "            if preNode.val != head.val:\n",
    "                return False\n",
    "            preNode = preNode.next\n",
    "            head = head.next\n",
    "        return True\n",
    "            "
   ]
  },
  {
   "cell_type": "code",
   "execution_count": null,
   "metadata": {
    "collapsed": true
   },
   "outputs": [],
   "source": []
  }
 ],
 "metadata": {
  "kernelspec": {
   "display_name": "Python 3",
   "language": "python",
   "name": "python3"
  },
  "language_info": {
   "codemirror_mode": {
    "name": "ipython",
    "version": 3
   },
   "file_extension": ".py",
   "mimetype": "text/x-python",
   "name": "python",
   "nbconvert_exporter": "python",
   "pygments_lexer": "ipython3",
   "version": "3.6.1"
  }
 },
 "nbformat": 4,
 "nbformat_minor": 2
}
