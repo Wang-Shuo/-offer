{
 "cells": [
  {
   "cell_type": "markdown",
   "metadata": {},
   "source": [
    "Serialization is the process of converting a data structure or object into a sequence of bits so that it can be stored in a file or memory buffer, or transmitted across a network connection link to be reconstructed later in the same or another computer environment.\n",
    "\n",
    "Design an algorithm to serialize and deserialize a binary tree. There is no restriction on how your serialization/deserialization algorithm should work. You just need to ensure that a binary tree can be serialized to a string and this string can be deserialized to the original tree structure."
   ]
  },
  {
   "cell_type": "code",
   "execution_count": 1,
   "metadata": {
    "collapsed": true
   },
   "outputs": [],
   "source": [
    "# Definition for a binary tree node.\n",
    "# class TreeNode(object):\n",
    "#     def __init__(self, x):\n",
    "#         self.val = x\n",
    "#         self.left = None\n",
    "#         self.right = None\n",
    "\n",
    "class Codec:\n",
    "\n",
    "    def serialize(self, root):\n",
    "        \"\"\"Encodes a tree to a single string.\n",
    "        \n",
    "        :type root: TreeNode\n",
    "        :rtype: str\n",
    "        \"\"\"\n",
    "        def serial(node):\n",
    "            if node:\n",
    "                vals.append(str(node.val))\n",
    "                serial(node.left)\n",
    "                serial(node.right)\n",
    "            else:\n",
    "                vals.append('null')\n",
    "            \n",
    "        vals = []\n",
    "        serial(root)\n",
    "        return ','.join(vals)\n",
    "        \n",
    "\n",
    "    def deserialize(self, data):\n",
    "        \"\"\"Decodes your encoded data to tree.\n",
    "        \n",
    "        :type data: str\n",
    "        :rtype: TreeNode\n",
    "        \"\"\"\n",
    "        def deserial():\n",
    "            val = next(vals)\n",
    "            if val == 'null':\n",
    "                return None\n",
    "            root = TreeNode(int(val))\n",
    "            root.left = deserial()\n",
    "            root.right = deserial()\n",
    "            return root\n",
    "        \n",
    "        vals = iter(data.split(','))\n",
    "        return deserial()\n",
    "\n",
    "# Your Codec object will be instantiated and called as such:\n",
    "# codec = Codec()\n",
    "# codec.deserialize(codec.serialize(root))"
   ]
  },
  {
   "cell_type": "code",
   "execution_count": 2,
   "metadata": {
    "collapsed": true
   },
   "outputs": [],
   "source": [
    "# -*- coding:utf-8 -*-\n",
    "# class TreeNode:\n",
    "#     def __init__(self, x):\n",
    "#         self.val = x\n",
    "#         self.left = None\n",
    "#         self.right = None\n",
    "class Solution:\n",
    "    def __init__(self):\n",
    "        self.flag = -1\n",
    "         \n",
    "    def Serialize(self, root):\n",
    "        # write code here\n",
    "        if not root:\n",
    "            return '#'\n",
    "        return str(root.val) + ',' + self.Serialize(root.left) + ',' + self.Serialize(root.right)\n",
    "     \n",
    "    def Deserialize(self, s):\n",
    "        # write code here\n",
    "        self.flag += 1\n",
    "        ls = s.split(',')\n",
    "        if self.flag >= len(ls):\n",
    "            return None\n",
    "         \n",
    "        root = None\n",
    "        if ls[self.flag] != '#':\n",
    "            root = TreeNode(int(ls[self.flag]))\n",
    "            root.left = self.Deserialize(s)\n",
    "            root.right = self.Deserialize(s)\n",
    "        return root"
   ]
  },
  {
   "cell_type": "code",
   "execution_count": null,
   "metadata": {
    "collapsed": true
   },
   "outputs": [],
   "source": []
  }
 ],
 "metadata": {
  "kernelspec": {
   "display_name": "Python 3",
   "language": "python",
   "name": "python3"
  },
  "language_info": {
   "codemirror_mode": {
    "name": "ipython",
    "version": 3
   },
   "file_extension": ".py",
   "mimetype": "text/x-python",
   "name": "python",
   "nbconvert_exporter": "python",
   "pygments_lexer": "ipython3",
   "version": "3.6.1"
  }
 },
 "nbformat": 4,
 "nbformat_minor": 2
}
