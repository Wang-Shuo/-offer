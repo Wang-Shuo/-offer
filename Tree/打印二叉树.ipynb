{
 "cells": [
  {
   "cell_type": "markdown",
   "metadata": {},
   "source": [
    "从上往下打印出二叉树的每个节点，同层节点从左至右打印。"
   ]
  },
  {
   "cell_type": "code",
   "execution_count": 1,
   "metadata": {
    "collapsed": true
   },
   "outputs": [],
   "source": [
    "# -*- coding:utf-8 -*-\n",
    "# class TreeNode:\n",
    "#     def __init__(self, x):\n",
    "#         self.val = x\n",
    "#         self.left = None\n",
    "#         self.right = None\n",
    "class Solution:\n",
    "    # 返回从上到下每个节点值列表，例：[1,2,3]\n",
    "    def PrintFromTopToBottom(self, root):\n",
    "        # write code here\n",
    "        if not root:\n",
    "            return []\n",
    "        \n",
    "        \n",
    "        result = []\n",
    "        queue = []\n",
    "        queue.append(root)\n",
    "        while len(queue) > 0:\n",
    "            node = queue.pop(0)\n",
    "            result.append(node.val)\n",
    "            if node.left:\n",
    "                queue.append(node.left)\n",
    "            if node.right:\n",
    "                queue.append(node.right)\n",
    "        return result"
   ]
  },
  {
   "cell_type": "markdown",
   "metadata": {},
   "source": [
    "从上到下按层打印二叉树，同一层结点从左至右输出。每一层输出一行。"
   ]
  },
  {
   "cell_type": "code",
   "execution_count": 2,
   "metadata": {
    "collapsed": true
   },
   "outputs": [],
   "source": [
    "# -*- coding:utf-8 -*-\n",
    "# class TreeNode:\n",
    "#     def __init__(self, x):\n",
    "#         self.val = x\n",
    "#         self.left = None\n",
    "#         self.right = None\n",
    "class Solution:\n",
    "    # 返回二维列表[[1,2],[4,5]]\n",
    "    def Print(self, pRoot):\n",
    "        # write code here\n",
    "        if not pRoot:\n",
    "            return []\n",
    "        \n",
    "        result = []\n",
    "        queue = []\n",
    "        queue.append(pRoot)\n",
    "        toBePrint = 1\n",
    "        nextlevel = 0\n",
    "        levelResult = []\n",
    "        while len(queue) > 0:\n",
    "            node = queue.pop(0)\n",
    "            levelResult.append(node.val)\n",
    "            toBePrint -= 1\n",
    "            if node.left:\n",
    "                queue.append(node.left)\n",
    "                nextlevel += 1\n",
    "            if node.right:\n",
    "                queue.append(node.right)\n",
    "                nextlevel += 1\n",
    "            \n",
    "            if toBePrint == 0:\n",
    "                result.append(levelResult)\n",
    "                levelResult = []\n",
    "                toBePrint = nextlevel\n",
    "                nextlevel = 0\n",
    "        return result\n",
    "            "
   ]
  },
  {
   "cell_type": "markdown",
   "metadata": {},
   "source": [
    "请实现一个函数按照之字形打印二叉树，即第一行按照从左到右的顺序打印，第二层按照从右至左的顺序打印，第三行按照从左到右的顺序打印，其他行以此类推。"
   ]
  },
  {
   "cell_type": "code",
   "execution_count": 3,
   "metadata": {
    "collapsed": true
   },
   "outputs": [],
   "source": [
    "# -*- coding:utf-8 -*-\n",
    "# class TreeNode:\n",
    "#     def __init__(self, x):\n",
    "#         self.val = x\n",
    "#         self.left = None\n",
    "#         self.right = None\n",
    "class Solution:\n",
    "    def Print(self, pRoot):\n",
    "        # write code here\n",
    "        if not pRoot:\n",
    "            return []\n",
    "        \n",
    "        result = []\n",
    "        stacks = [[], []]\n",
    "        current = 0\n",
    "        next = 1\n",
    "        stacks[current].append(pRoot)\n",
    "        levelResult = []\n",
    "        while stacks[0] or stacks[1]:\n",
    "            node = stacks[current].pop()\n",
    "            levelResult.append(node.val)\n",
    "            \n",
    "            if current == 0:\n",
    "                if node.left:\n",
    "                    stacks[next].append(node.left)\n",
    "                if node.right:\n",
    "                    stacks[next].append(node.right)\n",
    "            else:\n",
    "                if node.right:\n",
    "                    stacks[next].append(node.right)\n",
    "                if node.left:\n",
    "                    stacks[next].append(node.left)\n",
    "            \n",
    "            if not stacks[current]:\n",
    "                result.append(levelResult)\n",
    "                levelResult = []\n",
    "                current = 1 - current\n",
    "                next = 1 - next\n",
    "                \n",
    "        return result"
   ]
  },
  {
   "cell_type": "code",
   "execution_count": null,
   "metadata": {
    "collapsed": true
   },
   "outputs": [],
   "source": []
  }
 ],
 "metadata": {
  "kernelspec": {
   "display_name": "Python 3",
   "language": "python",
   "name": "python3"
  },
  "language_info": {
   "codemirror_mode": {
    "name": "ipython",
    "version": 3
   },
   "file_extension": ".py",
   "mimetype": "text/x-python",
   "name": "python",
   "nbconvert_exporter": "python",
   "pygments_lexer": "ipython3",
   "version": "3.6.1"
  }
 },
 "nbformat": 4,
 "nbformat_minor": 2
}
