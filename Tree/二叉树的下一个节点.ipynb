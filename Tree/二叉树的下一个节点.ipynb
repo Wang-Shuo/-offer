{
 "cells": [
  {
   "cell_type": "markdown",
   "metadata": {},
   "source": [
    "给定一个二叉树和其中的一个结点，请找出中序遍历顺序的下一个结点并且返回。注意，树中的结点不仅包含左右子结点，同时包含指向父结点的指针。"
   ]
  },
  {
   "cell_type": "code",
   "execution_count": 1,
   "metadata": {
    "collapsed": true
   },
   "outputs": [],
   "source": [
    "# -*- coding:utf-8 -*-\n",
    "# class TreeLinkNode:\n",
    "#     def __init__(self, x):\n",
    "#         self.val = x\n",
    "#         self.left = None\n",
    "#         self.right = None\n",
    "#         self.parent = None\n",
    "class Solution:\n",
    "    def GetNext(self, pNode):\n",
    "        # write code here\n",
    "        if not pNode:\n",
    "            return\n",
    "        \n",
    "        pNext = None\n",
    "        if pNode.right:\n",
    "            pRight = pNode.right\n",
    "            while pRight.left:\n",
    "                pRight = pRight.left\n",
    "            pNext = pRight\n",
    "        elif pNode.parent:\n",
    "            pCurrent = pNode\n",
    "            pParent = pNode.parent\n",
    "            while pParent and pCurrent == pParent.right:\n",
    "                pCurrent = pParent\n",
    "                pParent = pParent.parent\n",
    "            pNext = pParent\n",
    "        return pNext"
   ]
  },
  {
   "cell_type": "code",
   "execution_count": null,
   "metadata": {
    "collapsed": true
   },
   "outputs": [],
   "source": []
  }
 ],
 "metadata": {
  "kernelspec": {
   "display_name": "Python 3",
   "language": "python",
   "name": "python3"
  },
  "language_info": {
   "codemirror_mode": {
    "name": "ipython",
    "version": 3
   },
   "file_extension": ".py",
   "mimetype": "text/x-python",
   "name": "python",
   "nbconvert_exporter": "python",
   "pygments_lexer": "ipython3",
   "version": "3.6.1"
  }
 },
 "nbformat": 4,
 "nbformat_minor": 2
}
