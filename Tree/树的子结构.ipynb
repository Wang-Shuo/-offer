{
 "cells": [
  {
   "cell_type": "markdown",
   "metadata": {},
   "source": [
    "输入两棵二叉树A，B，判断B是不是A的子结构。（ps：我们约定空树不是任意一个树的子结构）"
   ]
  },
  {
   "cell_type": "code",
   "execution_count": 1,
   "metadata": {
    "collapsed": true
   },
   "outputs": [],
   "source": [
    "# -*- coding:utf-8 -*-\n",
    "# class TreeNode:\n",
    "#     def __init__(self, x):\n",
    "#         self.val = x\n",
    "#         self.left = None\n",
    "#         self.right = None\n",
    "class Solution:\n",
    "    def HasSubtree(self, pRoot1, pRoot2):\n",
    "        # write code here\n",
    "        result = False\n",
    "        if pRoot1 and pRoot2:\n",
    "            if pRoot1.val == pRoot2.val:\n",
    "                result = self.DoesTree1HasTree2(pRoot1, pRoot2)\n",
    "            if not result:\n",
    "                result = self.HasSubtree(pRoot1.left, pRoot2)\n",
    "            if not result:\n",
    "                result = self.HasSubtree(pRoot1.right, pRoot2)\n",
    "        return result\n",
    "    \n",
    "    def DoesTree1HasTree2(self, pRoot1, pRoot2):\n",
    "        if not pRoot2:\n",
    "            return True\n",
    "        if not pRoot1:\n",
    "            return False\n",
    "        \n",
    "        if pRoot1.val != pRoot2.val:\n",
    "            return False\n",
    "        \n",
    "        return self.DoesTree1HasTree2(pRoot1.left, pRoot2.left) and self.DoesTree1HasTree2(pRoot1.right, pRoot2.right)"
   ]
  },
  {
   "cell_type": "code",
   "execution_count": 4,
   "metadata": {
    "collapsed": true
   },
   "outputs": [],
   "source": [
    "# -*- coding:utf-8 -*-\n",
    "# class TreeNode:\n",
    "#     def __init__(self, x):\n",
    "#         self.val = x\n",
    "#         self.left = None\n",
    "#         self.right = None\n",
    "class Solution:\n",
    "    def HasSubtree(self, pRoot1, pRoot2):\n",
    "        # write code here\n",
    "        if pRoot1 and pRoot2:\n",
    "            if self.check(pRoot1, pRoot2):\n",
    "                return True\n",
    "            \n",
    "            if self.HasSubtree(pRoot1.left, pRoot2) or self.HasSubtree(pRoot1.right, pRoot2):\n",
    "                return True\n",
    "            \n",
    "        return False\n",
    "        \n",
    "    def check(self, pRoot1, pRoot2):\n",
    "        if not pRoot2:\n",
    "            return True\n",
    "        \n",
    "        if not pRoot1:\n",
    "            return False\n",
    "        \n",
    "        return (pRoot1.val == pRoot2.val) and self.check(pRoot1.left, pRoot2.left) and self.check(pRoot1.right, pRoot2.right)"
   ]
  },
  {
   "cell_type": "markdown",
   "metadata": {},
   "source": [
    "Given two non-empty binary trees s and t, check whether tree t has exactly the same structure and node values with a subtree of s. A subtree of s is a tree consists of a node in s and all of this node's descendants. The tree s could also be considered as a subtree of itself."
   ]
  },
  {
   "cell_type": "code",
   "execution_count": 3,
   "metadata": {
    "collapsed": true
   },
   "outputs": [],
   "source": [
    "class Solution:\n",
    "    def isSubtree(self, s, t):\n",
    "        \"\"\"\n",
    "        :type s: TreeNode\n",
    "        :type t: TreeNode\n",
    "        :rtype: bool\n",
    "        \"\"\"\n",
    "        if not s:\n",
    "            return False\n",
    "        \n",
    "        if self.valid(s, t):\n",
    "            return True\n",
    "        \n",
    "        if self.isSubtree(s.left, t) or self.isSubtree(s.right, t):\n",
    "            return True\n",
    "        \n",
    "        return False\n",
    "        \n",
    "    def valid(self, s, t):\n",
    "        if not s and not t:\n",
    "            return True\n",
    "        \n",
    "        if not s or not t:\n",
    "            return False\n",
    "        \n",
    "        return (s.val == t.val) and self.valid(s.left, t.left) and self.valid(s.right, t.right)"
   ]
  },
  {
   "cell_type": "code",
   "execution_count": null,
   "metadata": {
    "collapsed": true
   },
   "outputs": [],
   "source": []
  }
 ],
 "metadata": {
  "kernelspec": {
   "display_name": "Python 3",
   "language": "python",
   "name": "python3"
  },
  "language_info": {
   "codemirror_mode": {
    "name": "ipython",
    "version": 3
   },
   "file_extension": ".py",
   "mimetype": "text/x-python",
   "name": "python",
   "nbconvert_exporter": "python",
   "pygments_lexer": "ipython3",
   "version": "3.6.1"
  }
 },
 "nbformat": 4,
 "nbformat_minor": 2
}
