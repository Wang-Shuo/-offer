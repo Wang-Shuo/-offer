{
 "cells": [
  {
   "cell_type": "markdown",
   "metadata": {},
   "source": [
    "输入一棵二叉搜索树，将该二叉搜索树转换成一个排序的双向链表。要求不能创建任何新的结点，只能调整树中结点指针的指向。"
   ]
  },
  {
   "cell_type": "code",
   "execution_count": 1,
   "metadata": {
    "collapsed": true
   },
   "outputs": [],
   "source": [
    "# -*- coding:utf-8 -*-\n",
    "# class TreeNode:\n",
    "#     def __init__(self, x):\n",
    "#         self.val = x\n",
    "#         self.left = None\n",
    "#         self.right = None\n",
    "class Solution:\n",
    "    def Convert(self, pRootOfTree):\n",
    "        # write code here\n",
    "        pLastNodeInList = None\n",
    "        lst = [pLastNodeInList]\n",
    "        self.ConvertNode(pRootOfTree, lst)\n",
    "        \n",
    "        pHeadOfList = lst[0]\n",
    "        while pHeadOfList and pHeadOfList.left:\n",
    "            pHeadOfList = pHeadOfList.left\n",
    "        return pHeadOfList\n",
    "    \n",
    "    def ConvertNode(self, pNode, lst):\n",
    "        if not pNode:\n",
    "            return \n",
    "        \n",
    "        pCurrent = pNode\n",
    "        if pCurrent.left:\n",
    "            self.ConvertNode(pCurrent.left, lst)\n",
    "        \n",
    "        pCurrent.left = lst[0]\n",
    "        if lst[0]:\n",
    "            lst[0].right = pCurrent\n",
    "        \n",
    "        lst[0] = pCurrent\n",
    "        if pCurrent.right:\n",
    "            self.ConvertNode(pCurrent.right, lst)"
   ]
  },
  {
   "cell_type": "code",
   "execution_count": null,
   "metadata": {
    "collapsed": true
   },
   "outputs": [],
   "source": []
  }
 ],
 "metadata": {
  "kernelspec": {
   "display_name": "Python 3",
   "language": "python",
   "name": "python3"
  },
  "language_info": {
   "codemirror_mode": {
    "name": "ipython",
    "version": 3
   },
   "file_extension": ".py",
   "mimetype": "text/x-python",
   "name": "python",
   "nbconvert_exporter": "python",
   "pygments_lexer": "ipython3",
   "version": "3.6.1"
  }
 },
 "nbformat": 4,
 "nbformat_minor": 2
}
