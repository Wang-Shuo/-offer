{
 "cells": [
  {
   "cell_type": "markdown",
   "metadata": {},
   "source": [
    "输入一个整数数组，判断该数组是不是某二叉搜索树的后序遍历的结果。如果是则输出Yes,否则输出No。假设输入的数组的任意两个数字都互不相同。"
   ]
  },
  {
   "cell_type": "code",
   "execution_count": 1,
   "metadata": {
    "collapsed": true
   },
   "outputs": [],
   "source": [
    "# -*- coding:utf-8 -*-\n",
    "class Solution:\n",
    "    def VerifySquenceOfBST(self, squence):\n",
    "        if not squence or len(squence) == 0:\n",
    "            return False\n",
    "\n",
    "        root = squence[-1]\n",
    "        length = len(squence)\n",
    "        idx = 0\n",
    "        for i in range(length - 1):\n",
    "            idx = i\n",
    "            if squence[i] > root:\n",
    "                break\n",
    "\n",
    "        for j in range(idx + 1, length - 1):\n",
    "            if squence[j] < root:\n",
    "                return False\n",
    "\n",
    "        left = True\n",
    "        if idx > 0:\n",
    "            left = self.VerifySquenceOfBST(squence[:idx])\n",
    "\n",
    "        right = True\n",
    "        if idx < length - 1:\n",
    "            right = self.VerifySquenceOfBST(squence[idx:length-1])\n",
    "\n",
    "        return left and right"
   ]
  },
  {
   "cell_type": "code",
   "execution_count": null,
   "metadata": {
    "collapsed": true
   },
   "outputs": [],
   "source": []
  }
 ],
 "metadata": {
  "kernelspec": {
   "display_name": "Python 3",
   "language": "python",
   "name": "python3"
  },
  "language_info": {
   "codemirror_mode": {
    "name": "ipython",
    "version": 3
   },
   "file_extension": ".py",
   "mimetype": "text/x-python",
   "name": "python",
   "nbconvert_exporter": "python",
   "pygments_lexer": "ipython3",
   "version": "3.6.1"
  }
 },
 "nbformat": 4,
 "nbformat_minor": 2
}
