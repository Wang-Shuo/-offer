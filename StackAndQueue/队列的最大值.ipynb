{
 "cells": [
  {
   "cell_type": "markdown",
   "metadata": {},
   "source": [
    "定义一个队列并实现函数max得到队列里的最大值，要求函数max、push和pop的时间复杂度都是O(1)。"
   ]
  },
  {
   "cell_type": "code",
   "execution_count": 1,
   "metadata": {
    "collapsed": true
   },
   "outputs": [],
   "source": [
    "class MaxQueue:\n",
    "    \n",
    "    def __init__(self):\n",
    "        self.queue = []\n",
    "        self.maxQueue = []\n",
    "        \n",
    "    def push(self, x):\n",
    "        self.queue.append(x)\n",
    "        while self.maxQueue and x >= self.maxQueue[-1]:\n",
    "            self.maxQueue.pop()\n",
    "        self.maxQueue.append(x)\n",
    "        \n",
    "    def pop(self):\n",
    "        if not self.queue or not self.maxQueue:\n",
    "            return\n",
    "        \n",
    "        result = self.queue.pop(0)\n",
    "        if result == self.maxQueue[0]:\n",
    "            self.maxQueue.pop(0)\n",
    "        return result\n",
    "    \n",
    "    def getMax(self):\n",
    "        return self.maxQueue[0]\n",
    "        \n",
    "    def peek(self):\n",
    "        return self.queue[0]"
   ]
  },
  {
   "cell_type": "code",
   "execution_count": 7,
   "metadata": {},
   "outputs": [
    {
     "name": "stdout",
     "output_type": "stream",
     "text": [
      "1\n",
      "2\n",
      "1\n",
      "5\n",
      "2\n",
      "5\n",
      "5\n",
      "6\n",
      "4\n"
     ]
    }
   ],
   "source": [
    "MQueue = MaxQueue()\n",
    "MQueue.push(1)\n",
    "print(MQueue.getMax())\n",
    "MQueue.push(2)\n",
    "print(MQueue.getMax())\n",
    "MQueue.push(4)\n",
    "MQueue.push(5)\n",
    "print(MQueue.pop())\n",
    "print(MQueue.getMax())\n",
    "print(MQueue.pop())\n",
    "print(MQueue.getMax())\n",
    "MQueue.push(5)\n",
    "print(MQueue.getMax())\n",
    "MQueue.push(6)\n",
    "print(MQueue.getMax())\n",
    "print(MQueue.peek())"
   ]
  },
  {
   "cell_type": "code",
   "execution_count": null,
   "metadata": {
    "collapsed": true
   },
   "outputs": [],
   "source": []
  }
 ],
 "metadata": {
  "kernelspec": {
   "display_name": "Python 3",
   "language": "python",
   "name": "python3"
  },
  "language_info": {
   "codemirror_mode": {
    "name": "ipython",
    "version": 3
   },
   "file_extension": ".py",
   "mimetype": "text/x-python",
   "name": "python",
   "nbconvert_exporter": "python",
   "pygments_lexer": "ipython3",
   "version": "3.6.1"
  }
 },
 "nbformat": 4,
 "nbformat_minor": 2
}
