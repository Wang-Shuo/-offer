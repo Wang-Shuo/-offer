{
 "cells": [
  {
   "cell_type": "markdown",
   "metadata": {},
   "source": [
    "### 题目一：Two Sum"
   ]
  },
  {
   "cell_type": "markdown",
   "metadata": {},
   "source": [
    "Given an array of integers, return indices of the two numbers such that they add up to a specific target.\n",
    "\n",
    "You may assume that each input would have exactly one solution, and you may not use the same element twice. [LeetCode: Two Sum](https://leetcode.com/problems/two-sum/description/)\n",
    "\n",
    "Example:\n",
    "\n",
    "> Given nums = [2, 7, 11, 15], target = 9,\n",
    "\n",
    "> Because nums[0] + nums[1] = 2 + 7 = 9, return [0, 1]."
   ]
  },
  {
   "cell_type": "code",
   "execution_count": 1,
   "metadata": {
    "collapsed": true
   },
   "outputs": [],
   "source": [
    "class Solution:\n",
    "    def twoSum(self, nums, target):\n",
    "        \"\"\"\n",
    "        :type nums: List[int]\n",
    "        :type target: int\n",
    "        :rtype: List[int]\n",
    "        \"\"\"\n",
    "        if not nums or len(nums) <= 0:\n",
    "            return\n",
    "        \n",
    "        nums_dict = dict()\n",
    "        for i, v in enumerate(nums):\n",
    "            x = target - v\n",
    "            if x in nums_dict:\n",
    "                return [nums_dict[x], i]\n",
    "            nums_dict[v] = i"
   ]
  },
  {
   "cell_type": "markdown",
   "metadata": {},
   "source": [
    "### 题目二：和为s的两个数字"
   ]
  },
  {
   "cell_type": "markdown",
   "metadata": {},
   "source": [
    "输入一个递增排序的数组和一个数字s，在数组中查找两个数，使得它们的和正好是s。如果有多对数字的和等于s，则输出任意一对即可。[nowcoder: 和为s的两个数字](https://www.nowcoder.com/practice/390da4f7a00f44bea7c2f3d19491311b?tpId=13&tqId=11195&tPage=1&rp=1&ru=/ta/coding-interviews&qru=/ta/coding-interviews/question-ranking)"
   ]
  },
  {
   "cell_type": "markdown",
   "metadata": {},
   "source": [
    "思路：定义两个指针分别从数组一头一尾向中间逼近，如果这两个指针所指的数字和等于要求的s，输出完事儿。如果和小于s，由于数组是排序的，那么将第一个指针右移；否则将第二个指针左移。"
   ]
  },
  {
   "cell_type": "code",
   "execution_count": 3,
   "metadata": {
    "collapsed": true
   },
   "outputs": [],
   "source": [
    "class Solution:\n",
    "    def FindNumbersWithSum(self, array, tsum):\n",
    "        # write code here\n",
    "        if not array or len(array) < 2:\n",
    "            return []\n",
    "        \n",
    "        begin = 0\n",
    "        end = len(array) - 1\n",
    "        while end > begin:\n",
    "            curSum = array[begin] + array[end]\n",
    "            if curSum == tsum:\n",
    "                return array[begin], array[end]\n",
    "            elif curSum > tsum:\n",
    "                end -= 1\n",
    "            else:\n",
    "                begin += 1\n",
    "        return []"
   ]
  },
  {
   "cell_type": "markdown",
   "metadata": {},
   "source": [
    "### 题目三：和为s的连续正数序列"
   ]
  },
  {
   "cell_type": "markdown",
   "metadata": {},
   "source": [
    "输入一个正数s，打印出所有和为s的连续正数序列（至少含有两个数）。[nowcoder: 和为s的连续正数序列](https://www.nowcoder.com/practice/c451a3fd84b64cb19485dad758a55ebe?tpId=13&tqId=11194&tPage=1&rp=1&ru=/ta/coding-interviews&qru=/ta/coding-interviews/question-ranking)"
   ]
  },
  {
   "cell_type": "code",
   "execution_count": 2,
   "metadata": {
    "collapsed": true
   },
   "outputs": [],
   "source": [
    "class Solution:\n",
    "    def FindContinuousSequence(self, tsum):\n",
    "        # write code here\n",
    "        if tsum < 3:\n",
    "            return []\n",
    "        \n",
    "        small = 1\n",
    "        big = 2\n",
    "        middle = (1 + tsum) / 2\n",
    "        curSum = small + big\n",
    "        result = []\n",
    "        while small < middle:\n",
    "            if curSum == tsum:\n",
    "                result.append(list(range(small, big+1)))\n",
    "                \n",
    "            while small < middle and curSum > tsum:\n",
    "                curSum -= small\n",
    "                small += 1\n",
    "                if curSum == tsum:\n",
    "                    result.append(list(range(small, big)))\n",
    "                    \n",
    "            big += 1\n",
    "            curSum += big\n",
    "            \n",
    "        return result   "
   ]
  },
  {
   "cell_type": "code",
   "execution_count": null,
   "metadata": {
    "collapsed": true
   },
   "outputs": [],
   "source": []
  }
 ],
 "metadata": {
  "kernelspec": {
   "display_name": "Python 3",
   "language": "python",
   "name": "python3"
  },
  "language_info": {
   "codemirror_mode": {
    "name": "ipython",
    "version": 3
   },
   "file_extension": ".py",
   "mimetype": "text/x-python",
   "name": "python",
   "nbconvert_exporter": "python",
   "pygments_lexer": "ipython3",
   "version": "3.6.1"
  }
 },
 "nbformat": 4,
 "nbformat_minor": 2
}
