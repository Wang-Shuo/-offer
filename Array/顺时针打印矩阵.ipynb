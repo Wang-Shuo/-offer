{
 "cells": [
  {
   "cell_type": "markdown",
   "metadata": {},
   "source": [
    "Given a matrix of m x n elements (m rows, n columns), return all elements of the matrix in spiral order.\n",
    "\n",
    "Example 1:\n",
    "\n",
    "> Input:\n",
    "> [\n",
    "\n",
    ">  [ 1, 2, 3 ],\n",
    "\n",
    ">  [ 4, 5, 6 ],\n",
    "\n",
    ">  [ 7, 8, 9 ]\n",
    "\n",
    "> ]\n",
    "\n",
    "> Output: [1,2,3,6,9,8,7,4,5]\n",
    "\n",
    "Example 2:\n",
    "\n",
    "> Input:\n",
    "\n",
    "> [\n",
    "\n",
    ">   [1, 2, 3, 4],\n",
    "\n",
    ">   [5, 6, 7, 8],\n",
    "\n",
    ">   [9,10,11,12]\n",
    "\n",
    "> ]\n",
    "\n",
    "> Output: [1,2,3,4,8,12,11,10,9,5,6,7]"
   ]
  },
  {
   "cell_type": "code",
   "execution_count": 1,
   "metadata": {
    "collapsed": true
   },
   "outputs": [],
   "source": [
    "class Solution:\n",
    "    def spiralOrder(self, matrix):\n",
    "        \"\"\"\n",
    "        :type matrix: List[List[int]]\n",
    "        :rtype: List[int]\n",
    "        \"\"\"\n",
    "        if not matrix:\n",
    "            return []\n",
    "        \n",
    "        start = 0\n",
    "        rows = len(matrix)\n",
    "        cols = len(matrix[0])\n",
    "        result  = []\n",
    "        \n",
    "        while rows > 2 * start and cols > 2 * start:\n",
    "            endX = cols - 1 - start\n",
    "            endY = rows - 1 - start\n",
    "            \n",
    "            for i in range(start, endX + 1):\n",
    "                result.append(matrix[start][i])\n",
    "                \n",
    "            if start < endY:\n",
    "                for i in range(start + 1, endY + 1):\n",
    "                    result.append(matrix[i][endX])\n",
    "                    \n",
    "            if start < endY and start < endX:\n",
    "                for i in range(endX - 1, start - 1, -1):\n",
    "                    result.append(matrix[endY][i])\n",
    "                    \n",
    "            if start < endX and start < endY - 1:\n",
    "                for i in range(endY - 1, start, -1):\n",
    "                    result.append(matrix[i][start])\n",
    "                    \n",
    "            start += 1\n",
    "            \n",
    "        return result\n",
    "        "
   ]
  },
  {
   "cell_type": "code",
   "execution_count": null,
   "metadata": {
    "collapsed": true
   },
   "outputs": [],
   "source": []
  }
 ],
 "metadata": {
  "kernelspec": {
   "display_name": "Python 3",
   "language": "python",
   "name": "python3"
  },
  "language_info": {
   "codemirror_mode": {
    "name": "ipython",
    "version": 3
   },
   "file_extension": ".py",
   "mimetype": "text/x-python",
   "name": "python",
   "nbconvert_exporter": "python",
   "pygments_lexer": "ipython3",
   "version": "3.6.1"
  }
 },
 "nbformat": 4,
 "nbformat_minor": 2
}
