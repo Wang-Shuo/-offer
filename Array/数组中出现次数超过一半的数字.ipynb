{
 "cells": [
  {
   "cell_type": "markdown",
   "metadata": {},
   "source": [
    "### 题目一：数组中出现次数超过一半的数字"
   ]
  },
  {
   "cell_type": "markdown",
   "metadata": {},
   "source": [
    "数组中有一个数字出现的次数超过数组长度的一半，请找出这个数字。 [数组中出现次数超过一半的数字](https://www.nowcoder.com/practice/e8a1b01a2df14cb2b228b30ee6a92163?tpId=13&tqId=11181&tPage=1&rp=1&ru=/ta/coding-interviews&qru=/ta/coding-interviews/question-ranking)\n",
    "\n",
    "Example:\n",
    "\n",
    "> Input: [1, 2, 3, 2, 2, 2, 5, 4, 2]\n",
    "\n",
    "> Output: 2"
   ]
  },
  {
   "cell_type": "markdown",
   "metadata": {},
   "source": [
    "思路一：数组中有一个数字出现的次数超过了数组长度的一半。如果把这个数组排序，那么排序之后位于数组中间的数字一定就是那个出现次数超过数组长度一半的数字。也就是说，这个数字就是统计学上的中位数，即长度为n的数组中第n/2大的数字。借鉴快排的思路，这种方法的重点在于Partition函数。Partition函数的功能是在数组中选择一个数字(pivot)，然后把比pivot小的数字移到数组的左边，比pivot大的数字移到数组的右边，最后返回pivot在重排后的数组中的位置。Partition函数的具体实现也有多种方法，这里实现了常见的两种方法。一种是基于交换的方法，一种是利用一头一尾两个指针的方法。\n",
    "\n",
    "思路二：数组中有一个数字出现的次数超过数组长度的一半，也就是说它出现的次数比其他所有数字出现次数的和还要多，因此可以在遍历数组的时候保存两个值，一个是数字，一个是次数。遍历的时候，如果下一个数字和前一个保存的数字相同，次数加1，不同则次数减1.如果次数为0，则保存下一个数字，次数重新设为1，最后要找的数字是最后一次把次数设为1的数字。"
   ]
  },
  {
   "cell_type": "code",
   "execution_count": 40,
   "metadata": {
    "collapsed": true
   },
   "outputs": [],
   "source": [
    "def Partition(array, start, end):\n",
    "    if not array or len(array) <= 0:\n",
    "        return\n",
    "    \n",
    "    if start < 0 or end >= len(array):\n",
    "        return\n",
    "    \n",
    "    pivot = array[start]\n",
    "    small_idx = 0\n",
    "    for i in range(start+1, end+1):\n",
    "        if array[i] <= pivot:\n",
    "            small_idx += 1\n",
    "            if i != small_idx:\n",
    "                array[i], array[small_idx] = array[small_idx], array[i]\n",
    "                \n",
    "    array[start], array[small_idx] = array[small_idx], array[start]\n",
    "    return small_idx"
   ]
  },
  {
   "cell_type": "code",
   "execution_count": 38,
   "metadata": {
    "collapsed": true
   },
   "outputs": [],
   "source": [
    "def Partition(array, start, end):\n",
    "    if not array or len(array) <= 0:\n",
    "        return\n",
    "    \n",
    "    if start < 0 or end >= len(array):\n",
    "        return\n",
    "    \n",
    "    pivot = array[start]\n",
    "    while start < end:\n",
    "        while start < end and array[end] >= pivot:\n",
    "            end -= 1\n",
    "        array[start] = array[end]\n",
    "        \n",
    "        while start < end and array[start] < pivot:\n",
    "            start += 1\n",
    "        array[end] = array[start]\n",
    "        \n",
    "    array[start] = pivot\n",
    "    return start"
   ]
  },
  {
   "cell_type": "code",
   "execution_count": 56,
   "metadata": {
    "collapsed": true
   },
   "outputs": [],
   "source": [
    "# -*- coding:utf-8 -*-\n",
    "class Solution:\n",
    "    def MoreThanHalfNum_Solution(self, numbers):\n",
    "        # write code here\n",
    "        if not numbers or len(numbers) <= 0:\n",
    "            return 0\n",
    "        \n",
    "        length = len(numbers)\n",
    "        middle = length >> 1\n",
    "        start = 0\n",
    "        end = length - 1\n",
    "        index = self.Partition(numbers, start, end)\n",
    "        while index != middle:\n",
    "            if index > middle:\n",
    "                end = index - 1\n",
    "                index = self.Partition(numbers, start, end)\n",
    "            else:\n",
    "                start = index + 1\n",
    "                index = self.Partition(numbers, start, end)\n",
    "                \n",
    "        result = numbers[middle]\n",
    "        \n",
    "        # check whether result is more than half of numbers\n",
    "        times = 0\n",
    "        for num in numbers:\n",
    "            if num == result:\n",
    "                times += 1\n",
    "        if times * 2 <= length:\n",
    "            return 0\n",
    "        \n",
    "        return result\n",
    "    \n",
    "    def Partition(self, numbers, start, end):\n",
    "        if not numbers or len(numbers) <= 0:\n",
    "            return\n",
    "        if start < 0 or end >= len(numbers):\n",
    "            return\n",
    "        \n",
    "        pivot = numbers[start]\n",
    "        small_idx = 0\n",
    "        for i in range(start+1, end+1):\n",
    "            if numbers[i] <= pivot:\n",
    "                small_idx += 1\n",
    "                if small_idx != i:\n",
    "                    numbers[i], numbers[small_idx] = numbers[small_idx], numbers[i]\n",
    "        numbers[start], numbers[small_idx] = numbers[small_idx], numbers[start]\n",
    "        return small_idx"
   ]
  },
  {
   "cell_type": "code",
   "execution_count": null,
   "metadata": {
    "collapsed": true
   },
   "outputs": [],
   "source": [
    "# -*- coding:utf-8 -*-\n",
    "class Solution:\n",
    "    def MoreThanHalfNum_Solution(self, numbers):\n",
    "        # write code here\n",
    "        if not numbers or len(numbers) <= 0:\n",
    "            return 0\n",
    "        \n",
    "        result = numbers[0]\n",
    "        times = 1\n",
    "        for num in numbers[1:]:\n",
    "            if times == 0:\n",
    "                result = num\n",
    "                times = 1\n",
    "            elif num == result:\n",
    "                times += 1\n",
    "            else:\n",
    "                times -= 1\n",
    "                \n",
    "        totaltimes = 0\n",
    "        for num in numbers:\n",
    "            if num == result:\n",
    "                totaltimes += 1\n",
    "        if totaltimes * 2 <= len(numbers):\n",
    "            return 0\n",
    "        \n",
    "        return result"
   ]
  }
 ],
 "metadata": {
  "kernelspec": {
   "display_name": "Python 3",
   "language": "python",
   "name": "python3"
  },
  "language_info": {
   "codemirror_mode": {
    "name": "ipython",
    "version": 3
   },
   "file_extension": ".py",
   "mimetype": "text/x-python",
   "name": "python",
   "nbconvert_exporter": "python",
   "pygments_lexer": "ipython3",
   "version": "3.6.1"
  }
 },
 "nbformat": 4,
 "nbformat_minor": 2
}
