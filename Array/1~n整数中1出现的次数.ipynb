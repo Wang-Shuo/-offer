{
 "cells": [
  {
   "cell_type": "markdown",
   "metadata": {},
   "source": [
    "Given an integer n, count the total number of digit 1 appearing in all non-negative integers less than or equal to n.\n",
    "\n",
    "Example:\n",
    "\n",
    "> Input: 13\n",
    "\n",
    "> Output: 6 \n",
    "\n",
    "> Explanation: Digit 1 occurred in the following numbers: 1, 10, 11, 12, 13."
   ]
  },
  {
   "cell_type": "code",
   "execution_count": 1,
   "metadata": {
    "collapsed": true
   },
   "outputs": [],
   "source": [
    "class Solution:\n",
    "    def countDigitOne(self, n):\n",
    "        \"\"\"\n",
    "        :type n: int\n",
    "        :rtype: int\n",
    "        \"\"\"\n",
    "        ones = 0\n",
    "        m = 1\n",
    "        while m <= n:\n",
    "            a = n // m\n",
    "            b = n % m\n",
    "            if a % 10 >= 2:\n",
    "                ones += (a // 10 + 1) * m\n",
    "            elif a % 10 == 1:\n",
    "                ones += a // 10 * m + b + 1\n",
    "            else:\n",
    "                ones += a // 10 * m\n",
    "        \n",
    "            m *= 10\n",
    "            \n",
    "        return ones"
   ]
  },
  {
   "cell_type": "code",
   "execution_count": null,
   "metadata": {
    "collapsed": true
   },
   "outputs": [],
   "source": []
  }
 ],
 "metadata": {
  "kernelspec": {
   "display_name": "Python 3",
   "language": "python",
   "name": "python3"
  },
  "language_info": {
   "codemirror_mode": {
    "name": "ipython",
    "version": 3
   },
   "file_extension": ".py",
   "mimetype": "text/x-python",
   "name": "python",
   "nbconvert_exporter": "python",
   "pygments_lexer": "ipython3",
   "version": "3.6.1"
  }
 },
 "nbformat": 4,
 "nbformat_minor": 2
}
