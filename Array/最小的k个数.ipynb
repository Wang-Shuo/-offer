{
 "cells": [
  {
   "cell_type": "markdown",
   "metadata": {},
   "source": [
    "输入n个整数，找出其中最小的k个数。[最小的k个数](https://www.nowcoder.com/practice/6a296eb82cf844ca8539b57c23e6e9bf?tpId=13&tqId=11182&tPage=1&rp=1&ru=/ta/coding-interviews&qru=/ta/coding-interviews/question-ranking)"
   ]
  },
  {
   "cell_type": "markdown",
   "metadata": {},
   "source": [
    "思路一：最容易想到的思路是先将输入的n个整数排序，从小到大排序之后位于最前面的k个数就是最小的k个数。这种思路的时间复杂度是O(nlogn)。\n",
    "\n",
    "思路二：利用快排算法中的Partition函数，使比第k个数字小的所有数字都位于数组的左边，比第k个数字大的所有数字都位于数组的右边。这种思路的时间复杂度是O(n),会修改输入的数组。\n",
    "\n",
    "思路三：先创建一个大小为k的数据容器来存储最小的k个数字，接下来每次从输入的n个整数中读入一个数，如果容器中已有的数字少于k个，则直接插入，如果容器中已有k个数字了，容器满了，则拿待插入的数字和容器中k个数字的最大值进行比较，如果待插入的数字要大，则抛弃继续读取下一个数字；否则进行替换。这个容器可以用最大堆来实现。最大堆可以实现在O(1)的时间内得到已有的k个数字中的最大值，O(logk)时间内完成删除和插入操作。思路三的解法没有修改输入的数组，特别适合处理海量数据。"
   ]
  },
  {
   "cell_type": "code",
   "execution_count": 3,
   "metadata": {
    "collapsed": true
   },
   "outputs": [],
   "source": [
    "# -*- coding:utf-8 -*-\n",
    "class Solution:\n",
    "    def GetLeastNumbers_Solution(self, tinput, k):\n",
    "        # write code here\n",
    "        if not tinput or len(tinput) <= 0 or k <= 0:\n",
    "            return []\n",
    "        \n",
    "        start = 0\n",
    "        end = len(tinput) - 1\n",
    "        index = self.Partition(tinput, start, end)\n",
    "        while index != k - 1:\n",
    "            if index > k - 1:\n",
    "                end = index - 1\n",
    "                index = self.Partition(tinput, start, end)\n",
    "            else:\n",
    "                start = index + 1\n",
    "                index = self.Partition(tinput, start, end)\n",
    "        \n",
    "        return tinput[:k]\n",
    "    \n",
    "    def Partition(self, nums, start, end):\n",
    "        if not nums or len(nums) <= 0:\n",
    "            return\n",
    "        if start < 0 or end >= len(nums):\n",
    "            return\n",
    "        pivot = nums[start]\n",
    "        split = 0\n",
    "        for i in range(start+1, end+1):\n",
    "            if nums[i] <= pivot:\n",
    "                split += 1\n",
    "                if split != i:\n",
    "                    nums[i], nums[split] = nums[split], nums[i]\n",
    "        nums[start], nums[split] = nums[split], nums[start]\n",
    "        return split\n",
    "        "
   ]
  },
  {
   "cell_type": "code",
   "execution_count": 11,
   "metadata": {
    "collapsed": true
   },
   "outputs": [],
   "source": [
    "# -*- coding:utf-8 -*-\n",
    "class Solution:\n",
    "    def GetLeastNumbers_Solution(self, tinput, k):\n",
    "        # write code here\n",
    "        import heapq\n",
    "        if not tinput or len(tinput) <= 0 or k <= 0 or k > len(tinput):\n",
    "            return []\n",
    "        \n",
    "        result = []\n",
    "        for num in tinput:\n",
    "            if len(result) < k:\n",
    "                result.append(num)\n",
    "            else:\n",
    "                result = heapq.nlargest(k, result)\n",
    "                if num >= result[0]:\n",
    "                    continue\n",
    "                else:\n",
    "                    result[0] = num\n",
    "        result.sort()\n",
    "        return result"
   ]
  },
  {
   "cell_type": "code",
   "execution_count": null,
   "metadata": {
    "collapsed": true
   },
   "outputs": [],
   "source": []
  }
 ],
 "metadata": {
  "kernelspec": {
   "display_name": "Python 3",
   "language": "python",
   "name": "python3"
  },
  "language_info": {
   "codemirror_mode": {
    "name": "ipython",
    "version": 3
   },
   "file_extension": ".py",
   "mimetype": "text/x-python",
   "name": "python",
   "nbconvert_exporter": "python",
   "pygments_lexer": "ipython3",
   "version": "3.6.1"
  }
 },
 "nbformat": 4,
 "nbformat_minor": 2
}
