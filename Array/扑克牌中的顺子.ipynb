{
 "cells": [
  {
   "cell_type": "markdown",
   "metadata": {},
   "source": [
    "### 扑克牌中的顺子"
   ]
  },
  {
   "cell_type": "markdown",
   "metadata": {},
   "source": [
    "从扑克牌中随机抽5张牌，判断是不是一个顺子。即这5张牌是不是连续的。2~10为数字本身，A为1，J为11，Q为12，K为13，大小王可以看成任意数字，不妨定义为0."
   ]
  },
  {
   "cell_type": "code",
   "execution_count": 2,
   "metadata": {
    "collapsed": true
   },
   "outputs": [],
   "source": [
    "# -*- coding:utf-8 -*-\n",
    "class Solution:\n",
    "    def IsContinuous(self, numbers):\n",
    "        # write code here\n",
    "        if not numbers or len(numbers) < 5:\n",
    "            return False\n",
    "        \n",
    "        numbers.sort()\n",
    "        \n",
    "        numOfZero = 0\n",
    "        numOfGap = 0\n",
    "        \n",
    "        for num in numbers:\n",
    "            if num == 0:\n",
    "                numOfZero += 1\n",
    "                \n",
    "        small = numOfZero\n",
    "        big = small + 1\n",
    "        while big < len(numbers):\n",
    "            if numbers[small] == numbers[big]:\n",
    "                return False\n",
    "            \n",
    "            numOfGap += numbers[big] - numbers[small] - 1\n",
    "            small = big\n",
    "            big += 1\n",
    "            \n",
    "        if numOfGap > numOfZero:\n",
    "            return False\n",
    "        else:\n",
    "            return True"
   ]
  },
  {
   "cell_type": "code",
   "execution_count": null,
   "metadata": {
    "collapsed": true
   },
   "outputs": [],
   "source": []
  }
 ],
 "metadata": {
  "kernelspec": {
   "display_name": "Python 3",
   "language": "python",
   "name": "python3"
  },
  "language_info": {
   "codemirror_mode": {
    "name": "ipython",
    "version": 3
   },
   "file_extension": ".py",
   "mimetype": "text/x-python",
   "name": "python",
   "nbconvert_exporter": "python",
   "pygments_lexer": "ipython3",
   "version": "3.6.1"
  }
 },
 "nbformat": 4,
 "nbformat_minor": 2
}
