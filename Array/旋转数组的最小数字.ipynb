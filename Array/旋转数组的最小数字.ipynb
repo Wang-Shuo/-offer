{
 "cells": [
  {
   "cell_type": "markdown",
   "metadata": {},
   "source": [
    "### 旋转数组的最小数字"
   ]
  },
  {
   "cell_type": "markdown",
   "metadata": {},
   "source": [
    "把一个数组最开始的若干个元素搬到数组的末尾，我们称之为数组的旋转。 输入一个非减排序的数组的一个旋转，输出旋转数组的最小元素。 例如数组{3,4,5,1,2}为{1,2,3,4,5}的一个旋转，该数组的最小值为1。 NOTE：给出的所有元素都大于0，若数组大小为0，请返回0。"
   ]
  },
  {
   "cell_type": "code",
   "execution_count": 2,
   "metadata": {
    "collapsed": true
   },
   "outputs": [],
   "source": [
    "# -*- coding:utf-8 -*-\n",
    "class Solution:\n",
    "    def minNumberInRotateArray(self, rotateArray):\n",
    "        # write code here\n",
    "        if not rotateArray or len(rotateArray) <= 0:\n",
    "            return 0\n",
    "        \n",
    "        left = 0\n",
    "        right = len(rotateArray) - 1\n",
    "        mid = left\n",
    "        while rotateArray[left] >= rotateArray[right]:\n",
    "            if right - left == 1:\n",
    "                mid = right\n",
    "                break\n",
    "            \n",
    "            mid = (left + right) // 2\n",
    "            if rotateArray[left] == rotateArray[mid] and rotateArray[mid] == rotateArray[right]:\n",
    "                return self.traverseFindMin(rotateArray, left, right)\n",
    "            \n",
    "            if rotateArray[mid] >= rotateArray[left]:\n",
    "                left = mid\n",
    "            elif rotateArray[mid] <= rotateArray[right]:\n",
    "                right = mid\n",
    "        \n",
    "        return rotateArray[mid]\n",
    "    \n",
    "    def traverseFindMin(self, numbers, left, right):\n",
    "        ans = numbers[left]\n",
    "        for i in range(left+1, right+1):\n",
    "            if numbers[i] < ans:\n",
    "                ans = numbers[i]\n",
    "        \n",
    "        return ans"
   ]
  },
  {
   "cell_type": "code",
   "execution_count": null,
   "metadata": {
    "collapsed": true
   },
   "outputs": [],
   "source": []
  }
 ],
 "metadata": {
  "kernelspec": {
   "display_name": "Python 3",
   "language": "python",
   "name": "python3"
  },
  "language_info": {
   "codemirror_mode": {
    "name": "ipython",
    "version": 3
   },
   "file_extension": ".py",
   "mimetype": "text/x-python",
   "name": "python",
   "nbconvert_exporter": "python",
   "pygments_lexer": "ipython3",
   "version": "3.6.1"
  }
 },
 "nbformat": 4,
 "nbformat_minor": 2
}
