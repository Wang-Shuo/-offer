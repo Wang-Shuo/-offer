{
 "cells": [
  {
   "cell_type": "markdown",
   "metadata": {},
   "source": [
    "### 题目一：找出数组中任意一个重复的数字"
   ]
  },
  {
   "cell_type": "markdown",
   "metadata": {},
   "source": [
    "在一个长度为n的数组里的所有数字都在0～n-1的范围内，数组中某些数字是重复的，但不知道有几个数字重复了，也不知道每个数字重复了多少次。请找出数组中任意一个重复的数字。 [数组中重复的数字](https://www.nowcoder.com/practice/623a5ac0ea5b4e5f95552655361ae0a8?tpId=13&tqId=11203&tPage=1&rp=1&ru=/ta/coding-interviews&qru=/ta/coding-interviews/question-ranking)\n",
    "\n",
    "例如：\n",
    "\n",
    "> input: [2, 3, 1, 0, 2, 5, 3]\n",
    "\n",
    "> output: 2 or 3"
   ]
  },
  {
   "cell_type": "markdown",
   "metadata": {},
   "source": [
    "思路一：一个简单的方法是先把输入的数组排序，再从头到尾扫描排序后的数组就可以了，排序一个长度为n的数组需要O(nlogn)的时间；\n",
    "\n",
    "思路二：利用哈希表。从头到尾顺序扫描数组的过程中，每扫描到一个数字，都可以用O(1)的时间来判断哈希表里是否已经包含了该数字。如果没有，就把该数字添加到哈希表中，如果已经存在，就找到了一个重复的数字。这个算法的时间复杂度是O(n),空间复杂度是O(n);\n",
    "\n",
    "思路三：重排数组中数字的顺序。数组中的数字都在0～n-1的范围内，如果这个数组中没有重复的数字，那么当数组排序之后数字i将出现在下标为i的位置，由于数组中有重复的数字，有些位置可能存在多个数字，同时有些位置可能没有数字。从头到尾扫描这个数组中的每个数字，当扫描到下标为i的数字时，首先比较这个数字（用m表示）是不是等于i。如果是，则接着扫描下一个数字；如果不是，则再拿它和第m个数字进行比较。如果它和第m个数字相等，就找到了一个重复的数字（该数字在下标为i和m的位置都出现了）；如果它和第m个数字不相等，就把第i个数字和第m个数字交换，把m放到属于它的位置。接下来重复这个比较、交换的过程，直到我们发现一个重复的数字。"
   ]
  },
  {
   "cell_type": "code",
   "execution_count": 1,
   "metadata": {
    "collapsed": true
   },
   "outputs": [],
   "source": [
    "class Solution:\n",
    "    # 这里要特别注意~找到任意重复的一个值并赋值到duplication[0]\n",
    "    # 函数返回True/False\n",
    "    def duplicate(self, numbers, duplication):\n",
    "        # write code here\n",
    "        if not numbers or len(numbers) <= 0:\n",
    "            return False\n",
    "        \n",
    "        for i in range(len(numbers)):\n",
    "            while numbers[i] != i:\n",
    "                if numbers[i] != numbers[numbers[i]]:\n",
    "                    idx = numbers[i]\n",
    "                    numbers[i], numbers[idx] = numbers[idx], numbers[i]\n",
    "                else:\n",
    "                    duplication[0] = numbers[i]\n",
    "                    return True\n",
    "        \n",
    "        return False"
   ]
  },
  {
   "cell_type": "code",
   "execution_count": 2,
   "metadata": {
    "collapsed": true
   },
   "outputs": [],
   "source": [
    "class Solution:\n",
    "    # 这里要特别注意~找到任意重复的一个值并赋值到duplication[0]\n",
    "    # 函数返回True/False\n",
    "    def duplicate(self, numbers, duplication):\n",
    "        # write code here\n",
    "        if not numbers or len(numbers) <= 0:\n",
    "            return False\n",
    "        \n",
    "        numSet = set()\n",
    "        for num in numbers:\n",
    "            if num not in numSet:\n",
    "                numSet.add(num)\n",
    "            else:\n",
    "                duplication[0] = num\n",
    "                return True\n",
    "        \n",
    "        return False"
   ]
  },
  {
   "cell_type": "markdown",
   "metadata": {},
   "source": [
    "### 题目二：找出数组中所有重复的数字"
   ]
  },
  {
   "cell_type": "markdown",
   "metadata": {},
   "source": [
    "Given an array of integers, 1 ≤ a[i] ≤ n (n = size of array), some elements appear twice and others appear once. Find all the elements that appear twice in this array. [Find All Duplicates in an Array](https://leetcode.com/problems/find-all-duplicates-in-an-array/description/)"
   ]
  },
  {
   "cell_type": "markdown",
   "metadata": {},
   "source": [
    "这一题可以采用和第一题同样的思路，只需要稍微修改一下就可以了。需要注意的是，第一题中的数字是从0开始的，而第二题中的数字是从1开始的。"
   ]
  },
  {
   "cell_type": "code",
   "execution_count": 3,
   "metadata": {
    "collapsed": true
   },
   "outputs": [],
   "source": [
    "class Solution:\n",
    "    def findDuplicates(self, nums):\n",
    "        \"\"\"\n",
    "        :type nums: List[int]\n",
    "        :rtype: List[int]\n",
    "        \"\"\"\n",
    "        if not nums or len(nums) <= 0:\n",
    "            return []\n",
    "        \n",
    "        result = []\n",
    "        numSet = set()\n",
    "        for num in nums:\n",
    "            if num not in numSet:\n",
    "                numSet.add(num)\n",
    "            else:\n",
    "                result.append(num)\n",
    "                \n",
    "        return result"
   ]
  },
  {
   "cell_type": "code",
   "execution_count": 4,
   "metadata": {
    "collapsed": true
   },
   "outputs": [],
   "source": [
    "class Solution:\n",
    "    def findDuplicates(self, nums):\n",
    "        \"\"\"\n",
    "        :type nums: List[int]\n",
    "        :rtype: List[int]\n",
    "        \"\"\"\n",
    "        if not nums or len(nums) <= 0:\n",
    "            return []\n",
    "        \n",
    "        nums = [num - 1 for num in nums]\n",
    "        result = set()\n",
    "        for i in range(len(nums)):\n",
    "            while nums[i] != i:\n",
    "                if nums[nums[i]] != nums[i]:\n",
    "                    idx = nums[i]\n",
    "                    nums[i], nums[idx] = nums[idx], nums[i]\n",
    "                else:\n",
    "                    result.add(nums[i] + 1)\n",
    "                    break\n",
    "        return list(result)"
   ]
  },
  {
   "cell_type": "markdown",
   "metadata": {},
   "source": [
    "### 题目三：不修改数组找出重复的数字"
   ]
  },
  {
   "cell_type": "markdown",
   "metadata": {},
   "source": [
    "在一个长度为n+1的数组里的所有数字都在1～n的范围内，所以数组中至少有一个数字是重复的。请找出数组中任意一个重复的数字，但不能修改输入的数组。\n",
    "\n",
    "Example:\n",
    "\n",
    "> input: [2,3,5,4,3,2,6,7]\n",
    "\n",
    "> output: 2 or 3\n"
   ]
  },
  {
   "cell_type": "markdown",
   "metadata": {
    "collapsed": true
   },
   "source": [
    "思路一：由于题目要求不能修改输入的数组，所以可以创建一个长度为n+1的辅助数组，然后逐一把原数组的每个数字复制到辅助数组。如果原数组中被复制的数字是m，则把它复制到辅助数组中下标为m的位置。这种方法需要O(n)的辅助空间。\n",
    "\n",
    "思路二：采用类似二分的方法统计某范围里数字的个数。把1～n的数字从中间的数字m分为两部分，前面一半为1～m，后面一半为m+1～n。如果1～m的数字的数目超过m，那么这一半的区间里一定包含重复的数字；否则另一半m+1～n的区间里一定包含重复的数字。接着继续把包含重复数字的区间一分为二，直到找到一个重复的数字。\n",
    "\n",
    "第二种思路可以用于解决LeetCode上的这一题：[Find the Duplicate Number](https://leetcode.com/problems/find-the-duplicate-number/description/)"
   ]
  },
  {
   "cell_type": "code",
   "execution_count": 1,
   "metadata": {
    "collapsed": true
   },
   "outputs": [],
   "source": [
    "class Solution:\n",
    "    def findDuplicates(self, numbers):\n",
    "        if not numbers or len(numbers) <= 0:\n",
    "            return\n",
    "        \n",
    "        length = len(numbers)\n",
    "        start = 1\n",
    "        end = length - 1\n",
    "        while end >= start:\n",
    "            middle = ((end - start) >> 1) + start\n",
    "            count = self.countRange(numbers, start, middle)\n",
    "            if end == start:\n",
    "                if count > 1:\n",
    "                    return start\n",
    "                else:\n",
    "                    break\n",
    "            \n",
    "            if count > (middle - start + 1):\n",
    "                end = middle\n",
    "            else:\n",
    "                start = middle + 1\n",
    "        \n",
    "        return\n",
    "    \n",
    "    def countRange(numbers, start, end):\n",
    "        if not numbers:\n",
    "            return 0\n",
    "        count = 0\n",
    "        for num in numbers:\n",
    "            if num >= start and num <= end:\n",
    "                count += 1\n",
    "        return count"
   ]
  },
  {
   "cell_type": "markdown",
   "metadata": {
    "collapsed": true
   },
   "source": [
    "### 题目四：从排序的数组中删除重复的数字"
   ]
  },
  {
   "cell_type": "markdown",
   "metadata": {},
   "source": [
    "Given a sorted array nums, remove the duplicates in-place such that each element appear only once and return the new length.\n",
    "\n",
    "Do not allocate extra space for another array, you must do this by modifying the input array in-place with O(1) extra memory. [Remove Duplicates from Sorted Array](https://leetcode.com/problems/remove-duplicates-from-sorted-array/description/)\n",
    "\n",
    "Example 1:\n",
    "\n",
    "> Given nums = [1,1,2],\n",
    "\n",
    "> Your function should return length = 2, with the first two elements of nums being 1 and 2 respectively.\n",
    "\n",
    "> It doesn't matter what you leave beyond the returned length.\n",
    "\n",
    "Example 2:\n",
    "\n",
    "> Given nums = [0,0,1,1,1,2,2,3,3,4],\n",
    "\n",
    "> Your function should return length = 5, with the first five elements of nums being modified to 0, 1, 2, 3, and 4 respectively.\n",
    "\n",
    "> It doesn't matter what values are set beyond the returned length."
   ]
  },
  {
   "cell_type": "code",
   "execution_count": 1,
   "metadata": {
    "collapsed": true
   },
   "outputs": [],
   "source": [
    "class Solution:\n",
    "    def removeDuplicates(self, nums):\n",
    "        \"\"\"\n",
    "        :type nums: List[int]\n",
    "        :rtype: int\n",
    "        \"\"\"\n",
    "        if not nums or len(nums) <= 0:\n",
    "            return\n",
    "        \n",
    "        idx = 1\n",
    "        for i in range(1, len(nums)):\n",
    "            if nums[i] > nums[idx-1]:\n",
    "                nums[idx] = nums[i]\n",
    "                idx += 1\n",
    "        return idx"
   ]
  },
  {
   "cell_type": "markdown",
   "metadata": {},
   "source": [
    "Given a sorted array nums, remove the duplicates in-place such that duplicates appeared at most twice and return the new length.\n",
    "\n",
    "Do not allocate extra space for another array, you must do this by modifying the input array in-place with O(1) extra memory.  [Remove Duplicates from Sorted Array II](https://leetcode.com/problems/remove-duplicates-from-sorted-array-ii/description/)\n",
    "\n",
    "Example 1:\n",
    "\n",
    "> Given nums = [1,1,1,2,2,3],\n",
    "\n",
    "> Your function should return length = 5, with the first five elements of nums being 1, 1, 2, 2 and 3 respectively.\n",
    "\n",
    "> It doesn't matter what you leave beyond the returned length.\n",
    "\n",
    "Example 2:\n",
    "\n",
    "> Given nums = [0,0,1,1,1,1,2,3,3],\n",
    "\n",
    "> Your function should return length = 7, with the first seven elements of nums being modified to 0, 0, 1, 1, 2, 3 and 3 respectively.\n",
    "\n",
    "> It doesn't matter what values are set beyond the returned length."
   ]
  },
  {
   "cell_type": "code",
   "execution_count": null,
   "metadata": {
    "collapsed": true
   },
   "outputs": [],
   "source": [
    "class Solution:\n",
    "    def removeDuplicates(self, nums):\n",
    "        \"\"\"\n",
    "        :type nums: List[int]\n",
    "        :rtype: int\n",
    "        \"\"\"      \n",
    "        if not nums or len(nums) <= 0:\n",
    "            return\n",
    "        \n",
    "        idx = 0\n",
    "        for num in nums:\n",
    "            if idx < 2 or num > nums[idx - 2]:\n",
    "                nums[idx] = num\n",
    "                idx += 1\n",
    "        return idx"
   ]
  }
 ],
 "metadata": {
  "kernelspec": {
   "display_name": "Python 3",
   "language": "python",
   "name": "python3"
  },
  "language_info": {
   "codemirror_mode": {
    "name": "ipython",
    "version": 3
   },
   "file_extension": ".py",
   "mimetype": "text/x-python",
   "name": "python",
   "nbconvert_exporter": "python",
   "pygments_lexer": "ipython3",
   "version": "3.6.1"
  }
 },
 "nbformat": 4,
 "nbformat_minor": 2
}
