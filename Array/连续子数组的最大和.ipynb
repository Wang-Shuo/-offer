{
 "cells": [
  {
   "cell_type": "markdown",
   "metadata": {},
   "source": [
    "输入一个整型数组，数组里有正数也有负数，数组中的一个或连续多个整数组成一个子数组。求所有子数组的和的最大值。[LeetCode: Maximum Subarray](https://leetcode.com/problems/maximum-subarray/description/)"
   ]
  },
  {
   "cell_type": "markdown",
   "metadata": {},
   "source": [
    "思路一：枚举数组的所有子数组并求出它们的和。一个长度为n的数组，总共有n(n+1)/2个子数组，计算出所有子数组的和，最快也需要O(n^2)的时间复杂度。\n",
    "\n",
    "思路二：从头到尾遍历数组的过程中，一方面记录当前已经累加的和，如果和为非正数，则抛弃重新累加；另一方面记录当前的最大和，当当前的累加和大于当前的最大和，则更新最大和。"
   ]
  },
  {
   "cell_type": "code",
   "execution_count": 1,
   "metadata": {
    "collapsed": true
   },
   "outputs": [],
   "source": [
    "class Solution:\n",
    "    def maxSubArray(self, nums):\n",
    "        \"\"\"\n",
    "        :type nums: List[int]\n",
    "        :rtype: int\n",
    "        \"\"\"\n",
    "        if not nums or len(nums) <= 0:\n",
    "            return\n",
    "        \n",
    "        curSum = 0\n",
    "        maxSum = nums[0]\n",
    "        for num in nums:\n",
    "            if curSum <= 0:\n",
    "                curSum = num\n",
    "            else:\n",
    "                curSum += num\n",
    "            \n",
    "            if curSum > maxSum:\n",
    "                maxSum = curSum\n",
    "                \n",
    "        return maxSum"
   ]
  },
  {
   "cell_type": "code",
   "execution_count": null,
   "metadata": {
    "collapsed": true
   },
   "outputs": [],
   "source": []
  }
 ],
 "metadata": {
  "kernelspec": {
   "display_name": "Python 3",
   "language": "python",
   "name": "python3"
  },
  "language_info": {
   "codemirror_mode": {
    "name": "ipython",
    "version": 3
   },
   "file_extension": ".py",
   "mimetype": "text/x-python",
   "name": "python",
   "nbconvert_exporter": "python",
   "pygments_lexer": "ipython3",
   "version": "3.6.1"
  }
 },
 "nbformat": 4,
 "nbformat_minor": 2
}
