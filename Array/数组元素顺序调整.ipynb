{
 "cells": [
  {
   "cell_type": "markdown",
   "metadata": {},
   "source": [
    "### 题目一：调整数组顺序使奇数位于偶数前面"
   ]
  },
  {
   "cell_type": "markdown",
   "metadata": {},
   "source": [
    "输入一个整数数组，实现一个函数来调整该数组中数字的顺序，使得所有奇数位于数组的前半部分，所有偶数位于数组的后半部分。"
   ]
  },
  {
   "cell_type": "markdown",
   "metadata": {},
   "source": [
    "思路：定义两个指针，一个从前往后移动，另一个从后往前移动。如果第一个指针指向的数字是偶数，并且第二个指针指向的数字是奇数，则交换这两个数字，否则各自向前移动，直到两个指针相遇。"
   ]
  },
  {
   "cell_type": "code",
   "execution_count": 1,
   "metadata": {
    "collapsed": true
   },
   "outputs": [],
   "source": [
    "class Solution:\n",
    "    def reOrderArray(self, array):\n",
    "        # write code here\n",
    "        if not array or len(array) == 0:\n",
    "            return\n",
    "        left = 0\n",
    "        right = len(array) - 1\n",
    "        while left < right:\n",
    "            while (left < right) and (array[left] & 0x1 == 1):\n",
    "                left += 1\n",
    "            \n",
    "            while (left < right) and (array[right] & 0x1 == 0):\n",
    "                right -= 1\n",
    "                \n",
    "            if left < right:\n",
    "                array[right], array[left] = array[left], array[right]\n",
    "                \n",
    "        return array"
   ]
  },
  {
   "cell_type": "markdown",
   "metadata": {},
   "source": [
    "**进阶：**在题目一的基础上，加上这样一个条件：调整后的数组要保证奇数和奇数，偶数和偶数之间的相对位置不变。 [nowcoder](https://www.nowcoder.com/practice/beb5aa231adc45b2a5dcc5b62c93f593?tpId=13&tqId=11166&tPage=1&rp=1&ru=/ta/coding-interviews&qru=/ta/coding-interviews/question-ranking)"
   ]
  },
  {
   "cell_type": "markdown",
   "metadata": {
    "collapsed": true
   },
   "source": [
    "思路一：一种简单粗暴的想法是定义两个空数组，在遍历原数组的过程中，将奇数和偶数分别存储到两个数组中，最后再进行合并。\n",
    "\n",
    "思路二：遍历数组的过程中，遇到奇数，则把奇数前面的偶数全部向后挪一位，空出的位置插入该奇数。"
   ]
  },
  {
   "cell_type": "code",
   "execution_count": 2,
   "metadata": {
    "collapsed": true
   },
   "outputs": [],
   "source": [
    "class Solution:\n",
    "    def reOrderArray(self, array):\n",
    "        # write code here\n",
    "        if not array or len(array) == 0:\n",
    "            return []\n",
    "        \n",
    "        odd = []\n",
    "        even = []\n",
    "        for num in array:\n",
    "            if num & 0x1 == 1:\n",
    "                odd.append(num)\n",
    "            else:\n",
    "                even.append(num)\n",
    "        return odd + even"
   ]
  },
  {
   "cell_type": "code",
   "execution_count": 4,
   "metadata": {
    "collapsed": true
   },
   "outputs": [],
   "source": [
    "class Solution:\n",
    "    def reOrderArray(self, array):\n",
    "        # write code here\n",
    "        if not array or len(array) == 0:\n",
    "            return []\n",
    "        \n",
    "        for i in range(len(array)):\n",
    "            if array[i] & 0x1 == 1:\n",
    "                temp = array[i]\n",
    "                j = i - 1\n",
    "                while j >= 0 and array[j] & 0x1 == 0:\n",
    "                    array[j+1] = array[j]\n",
    "                    j -= 1\n",
    "                array[j+1] = temp\n",
    "                \n",
    "        return array"
   ]
  },
  {
   "cell_type": "code",
   "execution_count": null,
   "metadata": {
    "collapsed": true
   },
   "outputs": [],
   "source": []
  }
 ],
 "metadata": {
  "kernelspec": {
   "display_name": "Python 3",
   "language": "python",
   "name": "python3"
  },
  "language_info": {
   "codemirror_mode": {
    "name": "ipython",
    "version": 3
   },
   "file_extension": ".py",
   "mimetype": "text/x-python",
   "name": "python",
   "nbconvert_exporter": "python",
   "pygments_lexer": "ipython3",
   "version": "3.6.1"
  }
 },
 "nbformat": 4,
 "nbformat_minor": 2
}
