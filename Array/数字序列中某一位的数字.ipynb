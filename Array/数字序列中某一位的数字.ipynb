{
 "cells": [
  {
   "cell_type": "markdown",
   "metadata": {},
   "source": [
    "数字以012345678...的格式序列化到一个字符序列中。在这个序列中，第5位（从0开始计数）是5，第13位是1.求任意第n位对应的数字。"
   ]
  },
  {
   "cell_type": "code",
   "execution_count": 1,
   "metadata": {
    "collapsed": true
   },
   "outputs": [],
   "source": [
    "class Solution:\n",
    "    def digitAtIndex(self, index):\n",
    "        if index < 0:\n",
    "            return -1\n",
    "        \n",
    "        digit = 1\n",
    "        while True:\n",
    "            if digit == 1:\n",
    "                numbers = 10\n",
    "            else:\n",
    "                numbers = 9 * 10 ** (digit - 1)\n",
    "                \n",
    "            if index < digit * numbers:\n",
    "                return self.digitAtIndexFinal(index, digit)\n",
    "            \n",
    "            index -= digit * numbers\n",
    "            digit += 1\n",
    "            \n",
    "    def digitAtIndexFinal(self, index, digit):\n",
    "        digitBeginNum = 0 if digit == 1 else 10 ** (digit - 1)\n",
    "        number = digitBeginNum + index // digit\n",
    "        idxInNum = index % digit\n",
    "        return int(str(number)[idxInNum])"
   ]
  },
  {
   "cell_type": "code",
   "execution_count": null,
   "metadata": {
    "collapsed": true
   },
   "outputs": [],
   "source": []
  }
 ],
 "metadata": {
  "kernelspec": {
   "display_name": "Python 3",
   "language": "python",
   "name": "python3"
  },
  "language_info": {
   "codemirror_mode": {
    "name": "ipython",
    "version": 3
   },
   "file_extension": ".py",
   "mimetype": "text/x-python",
   "name": "python",
   "nbconvert_exporter": "python",
   "pygments_lexer": "ipython3",
   "version": "3.6.1"
  }
 },
 "nbformat": 4,
 "nbformat_minor": 2
}
