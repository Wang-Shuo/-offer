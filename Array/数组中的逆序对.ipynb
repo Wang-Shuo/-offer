{
 "cells": [
  {
   "cell_type": "markdown",
   "metadata": {
    "collapsed": true
   },
   "source": [
    "在数组中的两个数字，如果前面一个数字大于后面的数字，则这两个数字组成一个逆序对。输入一个数组，求出这个数组中的逆序对的总数。例如，在数组{7,5,6,4}中，一共存在5个逆序对，分别是（7,6）、（7,5）、（7,4）、（6,4）和（5,4）。[nowcoder: 数组中的逆序对](https://www.nowcoder.com/practice/96bd6684e04a44eb80e6a68efc0ec6c5?tpId=13&tqId=11188&tPage=1&rp=1&ru=/ta/coding-interviews&qru=/ta/coding-interviews/question-ranking)"
   ]
  },
  {
   "cell_type": "markdown",
   "metadata": {},
   "source": [
    "思路：先把数组分隔成子数组，统计出子数组内部的逆序对的数目，然后再统计出两个相邻子数组之间的逆序对的数目。在统计逆序对的过程中，还需要对数组进行排序。"
   ]
  },
  {
   "cell_type": "code",
   "execution_count": 28,
   "metadata": {
    "collapsed": true
   },
   "outputs": [],
   "source": [
    "class Solution:\n",
    "    def InversePairs(self, data):\n",
    "        # write code here\n",
    "        if not data or len(data) <= 0:\n",
    "            return 0\n",
    "        \n",
    "        copy = data[:]\n",
    "        count = self.InversePairsCore(data, copy, 0, len(data)-1)\n",
    "        return count\n",
    "    \n",
    "    def InversePairsCore(self, data, copy, start, end):\n",
    "        if start == end:\n",
    "            copy[start] = data[start]\n",
    "            return 0\n",
    "        \n",
    "        middle = (end - start) // 2\n",
    "        left = self.InversePairsCore(copy, data, start, start + middle)\n",
    "        right = self.InversePairsCore(copy, data, start + middle + 1, end)\n",
    "        \n",
    "        # i初始化为前半段最后一个数字的下标\n",
    "        i = start + middle\n",
    "        # j初始化为后半段最后一个数字的下标\n",
    "        j = end\n",
    "        indexCopy = end\n",
    "        count = 0\n",
    "        while i >= start and j >= start + middle + 1:\n",
    "            if data[i] > data[j]:\n",
    "                copy[indexCopy] = data[i]\n",
    "                indexCopy -= 1\n",
    "                i -= 1\n",
    "                count += (j - start - middle)\n",
    "            else:\n",
    "                copy[indexCopy] = data[j]\n",
    "                indexCopy -= 1\n",
    "                j -= 1\n",
    "        \n",
    "        while i >= start:\n",
    "            copy[indexCopy] = data[i]\n",
    "            indexCopy -= 1\n",
    "            i -= 1\n",
    "        \n",
    "        while j >= start + middle + 1:\n",
    "            copy[indexCopy] = data[j]\n",
    "            indexCopy -= 1\n",
    "            j -= 1\n",
    "            \n",
    "        return left + right + count"
   ]
  },
  {
   "cell_type": "code",
   "execution_count": null,
   "metadata": {
    "collapsed": true
   },
   "outputs": [],
   "source": []
  }
 ],
 "metadata": {
  "kernelspec": {
   "display_name": "Python 3",
   "language": "python",
   "name": "python3"
  },
  "language_info": {
   "codemirror_mode": {
    "name": "ipython",
    "version": 3
   },
   "file_extension": ".py",
   "mimetype": "text/x-python",
   "name": "python",
   "nbconvert_exporter": "python",
   "pygments_lexer": "ipython3",
   "version": "3.6.1"
  }
 },
 "nbformat": 4,
 "nbformat_minor": 2
}
