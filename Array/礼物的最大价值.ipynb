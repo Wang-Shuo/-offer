{
 "cells": [
  {
   "cell_type": "markdown",
   "metadata": {
    "collapsed": true
   },
   "source": [
    "在一个mxn的棋盘的每一格都放有一个礼物，每个礼物都有一定的价值（价值大于0）.你可以从棋盘的左上角开始拿格子里的礼物，并每次向右或者向下移动一格，直到到达棋盘的右下角。给定一个棋盘及其上面的礼物，请计算最多能拿到多少价值的礼物。"
   ]
  },
  {
   "cell_type": "code",
   "execution_count": 5,
   "metadata": {
    "collapsed": true
   },
   "outputs": [],
   "source": [
    "class Solution:\n",
    "    def getMaxValue(self, values):\n",
    "        if not values or len(values) <= 0:\n",
    "            return 0\n",
    "        \n",
    "        rows = len(values)\n",
    "        cols = len(values[0])\n",
    "        maxValues = [[0] * cols] * rows\n",
    "        \n",
    "        for i in range(rows):\n",
    "            for j in range(cols):\n",
    "                left = 0\n",
    "                up = 0\n",
    "                \n",
    "                if i > 0:\n",
    "                    up = maxValues[i-1][j]\n",
    "                if j > 0:\n",
    "                    left = maxValues[i][j-1]\n",
    "                    \n",
    "                maxValues[i][j] = max(left, up) + values[i][j]\n",
    "        \n",
    "        return maxValues[rows- 1][cols - 1]"
   ]
  },
  {
   "cell_type": "code",
   "execution_count": 2,
   "metadata": {},
   "outputs": [
    {
     "data": {
      "text/plain": [
       "53"
      ]
     },
     "execution_count": 2,
     "metadata": {},
     "output_type": "execute_result"
    }
   ],
   "source": [
    "values = [[1, 10, 3, 8],\n",
    "          [12, 2, 9, 6],\n",
    "          [5, 7, 4, 11],\n",
    "          [3, 7, 16, 5]]\n",
    "\n",
    "s = Solution()\n",
    "s.getMaxValue(values)"
   ]
  },
  {
   "cell_type": "code",
   "execution_count": 1,
   "metadata": {
    "collapsed": true
   },
   "outputs": [],
   "source": [
    "class Solution:\n",
    "    def getMaxValue(self, values):\n",
    "        if not values or len(values) <= 0:\n",
    "            return 0\n",
    "        \n",
    "        rows = len(values)\n",
    "        cols = len(values)\n",
    "        maxValues = [0] * cols\n",
    "        \n",
    "        for i in range(rows):\n",
    "            for j in range(cols):\n",
    "                left = 0\n",
    "                up = 0\n",
    "                \n",
    "                if i > 0:\n",
    "                    up = maxValues[j]\n",
    "                if j > 0:\n",
    "                    left = maxValues[j-1]\n",
    "                    \n",
    "                maxValues[j] = max(left, up) + values[i][j]\n",
    "                \n",
    "        return maxValues[cols - 1]\n",
    "                "
   ]
  },
  {
   "cell_type": "code",
   "execution_count": null,
   "metadata": {
    "collapsed": true
   },
   "outputs": [],
   "source": []
  }
 ],
 "metadata": {
  "kernelspec": {
   "display_name": "Python 3",
   "language": "python",
   "name": "python3"
  },
  "language_info": {
   "codemirror_mode": {
    "name": "ipython",
    "version": 3
   },
   "file_extension": ".py",
   "mimetype": "text/x-python",
   "name": "python",
   "nbconvert_exporter": "python",
   "pygments_lexer": "ipython3",
   "version": "3.6.1"
  }
 },
 "nbformat": 4,
 "nbformat_minor": 2
}
