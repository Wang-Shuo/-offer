{
 "cells": [
  {
   "cell_type": "markdown",
   "metadata": {
    "collapsed": true
   },
   "source": [
    "### 题目一：数字在排序数组中出现的次数"
   ]
  },
  {
   "cell_type": "markdown",
   "metadata": {},
   "source": [
    "统计一个数字在排序数组中出现的次数。例如，输入排序数组{1,2,3,3,3,3,4,5}和数字3，由于3在这个数组中出现了4次，因此输出4."
   ]
  },
  {
   "cell_type": "code",
   "execution_count": 1,
   "metadata": {
    "collapsed": true
   },
   "outputs": [],
   "source": [
    "# -*- coding:utf-8 -*-\n",
    "class Solution:\n",
    "    def GetNumberOfK(self, data, k):\n",
    "        # write code here\n",
    "        if not data or len(data) <= 0:\n",
    "            return 0\n",
    "        \n",
    "        count = 0\n",
    "        length = len(data)\n",
    "        first = self.GetFirstK(data, k, 0, length-1)\n",
    "        last = self.GetLastK(data, k, 0, length-1)\n",
    "        \n",
    "        if first > -1 and last > -1:\n",
    "            count = last - first + 1\n",
    "        \n",
    "        return count\n",
    "    \n",
    "    \n",
    "    def GetFirstK(self, data, k, start, end):\n",
    "        if start > end:\n",
    "            return -1\n",
    "        midIndex = (start + end) // 2\n",
    "        midValue = data[midIndex]\n",
    "        if midValue == k:\n",
    "            if (midIndex > 0 and data[midIndex - 1] != k) or (midIndex == 0):\n",
    "                return midIndex\n",
    "            else:\n",
    "                end = midIndex - 1\n",
    "        elif midValue > k:\n",
    "            end = midIndex - 1\n",
    "        else:\n",
    "            start = midIndex + 1\n",
    "            \n",
    "        return self.GetFirstK(data, k, start, end)\n",
    "    \n",
    "    \n",
    "    def GetLastK(self, data, k, start, end):\n",
    "        if start > end:\n",
    "            return -1\n",
    "        midIndex = (start + end) // 2\n",
    "        midValue = data[midIndex]\n",
    "        if midValue == k:\n",
    "            if (midIndex < len(data) - 1 and data[midIndex + 1] != k) or (midIndex == len(data) - 1):\n",
    "                return midIndex\n",
    "            else:\n",
    "                start = midIndex + 1\n",
    "        elif midValue > k:\n",
    "            end = midIndex - 1\n",
    "        else:\n",
    "            start = midIndex + 1\n",
    "            \n",
    "        return self.GetLastK(data, k, start, end)"
   ]
  },
  {
   "cell_type": "markdown",
   "metadata": {},
   "source": [
    "### 题目二：0～n-1中缺失的数字"
   ]
  },
  {
   "cell_type": "markdown",
   "metadata": {},
   "source": [
    "一个长度为n-1的递增排序数组中的所有数字都是唯一的，并且每个数字都在范围0~n-1之内。在范围0~n-1内的n个数字中有且只有一个数字不在该数组中，请找出这个数字。"
   ]
  },
  {
   "cell_type": "code",
   "execution_count": 3,
   "metadata": {
    "collapsed": true
   },
   "outputs": [],
   "source": [
    "class Solution:\n",
    "    def GetMissingNumber(self, numbers):\n",
    "        if not numbers or len(numbers) <= 0:\n",
    "            return -1\n",
    "        \n",
    "        length = len(numbers)\n",
    "        left = 0\n",
    "        right = length - 1\n",
    "        while left <= right:\n",
    "            middle = (right + left) >> 1\n",
    "            if numbers[middle] != middle:\n",
    "                if middle == 0 or numbers[middle - 1] == middle - 1:\n",
    "                    return middle\n",
    "                right = middle - 1\n",
    "            else:\n",
    "                left = middle + 1\n",
    "                \n",
    "        if left == length:\n",
    "            return length\n",
    "        \n",
    "        return -1"
   ]
  },
  {
   "cell_type": "markdown",
   "metadata": {},
   "source": [
    "### 题目三：数组中数值和下标相等的元素"
   ]
  },
  {
   "cell_type": "markdown",
   "metadata": {},
   "source": [
    "假设一个单调递增的数组里的每个元素都是整数并且是唯一的。请编程实现一个函数，找出数组中任意一个数值等于其下标的元素。"
   ]
  },
  {
   "cell_type": "code",
   "execution_count": 4,
   "metadata": {
    "collapsed": true
   },
   "outputs": [],
   "source": [
    "class Solution:\n",
    "    def GetNumberSameAsIndex(self, numbers):\n",
    "        if not numbers or len(numbers) <= 0:\n",
    "            return -1\n",
    "        \n",
    "        length = len(numbers)\n",
    "        left = 0\n",
    "        right = length - 1\n",
    "        while left <= right:\n",
    "            middle = (right + left) >> 1\n",
    "            if numbers[middle] == middle:\n",
    "                return middle\n",
    "            \n",
    "            if numbers[middle] > middle:\n",
    "                right = middle - 1\n",
    "            else:\n",
    "                left = middle + 1\n",
    "                \n",
    "        return -1"
   ]
  },
  {
   "cell_type": "code",
   "execution_count": null,
   "metadata": {
    "collapsed": true
   },
   "outputs": [],
   "source": []
  }
 ],
 "metadata": {
  "kernelspec": {
   "display_name": "Python 3",
   "language": "python",
   "name": "python3"
  },
  "language_info": {
   "codemirror_mode": {
    "name": "ipython",
    "version": 3
   },
   "file_extension": ".py",
   "mimetype": "text/x-python",
   "name": "python",
   "nbconvert_exporter": "python",
   "pygments_lexer": "ipython3",
   "version": "3.6.1"
  }
 },
 "nbformat": 4,
 "nbformat_minor": 2
}
