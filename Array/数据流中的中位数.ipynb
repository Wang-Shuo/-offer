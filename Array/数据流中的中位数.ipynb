{
 "cells": [
  {
   "cell_type": "markdown",
   "metadata": {},
   "source": [
    "### 题目一：数据流中的中位数"
   ]
  },
  {
   "cell_type": "markdown",
   "metadata": {},
   "source": [
    "Median is the middle value in an ordered integer list. If the size of the list is even, there is no middle value. So the median is the mean of the two middle value.\n",
    "\n",
    "For example,\n",
    "> [2,3,4], the median is 3\n",
    "\n",
    "> [2,3], the median is (2 + 3) / 2 = 2.5\n",
    "\n",
    "Design a data structure that supports the following two operations:\n",
    "\n",
    "> void addNum(int num) - Add a integer number from the data stream to the data structure.\n",
    "\n",
    "> double findMedian() - Return the median of all elements so far.\n",
    "\n",
    "Example:\n",
    "> addNum(1)\n",
    "\n",
    "> addNum(2)\n",
    "\n",
    "> findMedian() -> 1.5\n",
    "\n",
    "> addNum(3) \n",
    "\n",
    "> findMedian() -> 2"
   ]
  },
  {
   "cell_type": "code",
   "execution_count": 1,
   "metadata": {
    "collapsed": true
   },
   "outputs": [],
   "source": [
    "from heapq import heappush, heappop\n",
    "\n",
    "class MedianFinder:\n",
    "    \n",
    "    def __init__(self):\n",
    "        \"\"\"\n",
    "        initialize your data structure here.\n",
    "        \"\"\"\n",
    "        self.lower = []\n",
    "        self.higher = []\n",
    "        \n",
    "\n",
    "    def addNum(self, num):\n",
    "        \"\"\"\n",
    "        :type num: int\n",
    "        :rtype: void\n",
    "        \"\"\"\n",
    "        if len(self.lower) == 0 or num < -self.lower[0]:\n",
    "            heappush(self.lower, -num)\n",
    "        else:\n",
    "            heappush(self.higher, num)\n",
    "        \n",
    "        if len(self.lower) - len(self.higher) >= 2:\n",
    "            heappush(self.higher, -heappop(self.lower))\n",
    "        \n",
    "        if len(self.higher) - len(self.lower) >= 2:\n",
    "            heappush(self.lower, -heappop(self.higher))\n",
    "\n",
    "        \n",
    "\n",
    "    def findMedian(self):\n",
    "        \"\"\"\n",
    "        :rtype: float\n",
    "        \"\"\"\n",
    "        if len(self.lower) == len(self.higher):\n",
    "            return (self.higher[0] - self.lower[0]) / 2.0\n",
    "        elif len(self.lower) > len(self.higher):\n",
    "            return -self.lower[0]\n",
    "        else:\n",
    "            return self.higher[0]"
   ]
  },
  {
   "cell_type": "code",
   "execution_count": 2,
   "metadata": {
    "collapsed": true
   },
   "outputs": [],
   "source": [
    "import bisect\n",
    "\n",
    "class MedianFinder:\n",
    "    \n",
    "    def __init__(self):\n",
    "        \"\"\"\n",
    "        initialize your data structure here.\n",
    "        \"\"\"\n",
    "        self.nums = []\n",
    "        \n",
    "\n",
    "    def addNum(self, num):\n",
    "        \"\"\"\n",
    "        :type num: int\n",
    "        :rtype: void\n",
    "        \"\"\"\n",
    "        bisect.insort(self.nums, num)\n",
    "        \n",
    "\n",
    "    def findMedian(self):\n",
    "        \"\"\"\n",
    "        :rtype: float\n",
    "        \"\"\"\n",
    "        length = len(self.nums)\n",
    "        if length == 0:\n",
    "            return\n",
    "        if length & 1 == 0:\n",
    "            return (self.nums[length // 2 - 1] + self.nums[length // 2]) / 2.0\n",
    "        else:\n",
    "            return self.nums[length // 2]"
   ]
  },
  {
   "cell_type": "code",
   "execution_count": null,
   "metadata": {
    "collapsed": true
   },
   "outputs": [],
   "source": []
  }
 ],
 "metadata": {
  "kernelspec": {
   "display_name": "Python 3",
   "language": "python",
   "name": "python3"
  },
  "language_info": {
   "codemirror_mode": {
    "name": "ipython",
    "version": 3
   },
   "file_extension": ".py",
   "mimetype": "text/x-python",
   "name": "python",
   "nbconvert_exporter": "python",
   "pygments_lexer": "ipython3",
   "version": "3.6.1"
  }
 },
 "nbformat": 4,
 "nbformat_minor": 2
}
