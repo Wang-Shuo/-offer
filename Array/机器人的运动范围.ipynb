{
 "cells": [
  {
   "cell_type": "markdown",
   "metadata": {},
   "source": [
    "### 机器人的运动范围"
   ]
  },
  {
   "cell_type": "markdown",
   "metadata": {},
   "source": [
    "地上有一个m行和n列的方格。一个机器人从坐标0,0的格子开始移动，每一次只能向左，右，上，下四个方向移动一格，但是不能进入行坐标和列坐标的数位之和大于k的格子。 例如，当k为18时，机器人能够进入方格（35,37），因为3+5+3+7 = 18。但是，它不能进入方格（35,38），因为3+5+3+8 = 19。请问该机器人能够达到多少个格子？"
   ]
  },
  {
   "cell_type": "code",
   "execution_count": 1,
   "metadata": {
    "collapsed": true
   },
   "outputs": [],
   "source": [
    "# -*- coding:utf-8 -*-\n",
    "class Solution:\n",
    "    def movingCount(self, threshold, rows, cols):\n",
    "        # write code here\n",
    "        if threshold < 0 or rows <= 0 or cols <= 0:\n",
    "            return 0\n",
    "        \n",
    "        visited = [0] * (rows * cols)\n",
    "        count = self.movingCountCore(threshold, rows, cols, 0, 0, visited)\n",
    "        return count\n",
    "    \n",
    "    def movingCountCore(self, threshold, rows, cols, row, col, visited):\n",
    "        count = 0\n",
    "        if self.check(threshold, rows, cols, row, col, visited):\n",
    "            visited[row * cols + col] = 1\n",
    "            count = 1 + self.movingCountCore(threshold, rows, cols, row, col - 1, visited) + \\\n",
    "                        self.movingCountCore(threshold, rows, cols, row, col + 1, visited) + \\\n",
    "                        self.movingCountCore(threshold, rows, cols, row - 1, col, visited) + \\\n",
    "                        self.movingCountCore(threshold, rows, cols, row + 1, col, visited)\n",
    "        \n",
    "        return count\n",
    "    \n",
    "    def check(self, threshold, rows, cols, row, col, visited):\n",
    "        if row >= 0 and row < rows and col >= 0 and col < cols and self.getDigitSum(row) + self.getDigitSum(col) <= threshold and not visited[row * cols + col]:\n",
    "            return True\n",
    "        return False\n",
    "    \n",
    "    def getDigitSum(self, num):\n",
    "        dsum = 0\n",
    "        while num > 0:\n",
    "            dsum += num % 10\n",
    "            num /= 10\n",
    "        return dsum"
   ]
  },
  {
   "cell_type": "code",
   "execution_count": null,
   "metadata": {
    "collapsed": true
   },
   "outputs": [],
   "source": []
  }
 ],
 "metadata": {
  "kernelspec": {
   "display_name": "Python 3",
   "language": "python",
   "name": "python3"
  },
  "language_info": {
   "codemirror_mode": {
    "name": "ipython",
    "version": 3
   },
   "file_extension": ".py",
   "mimetype": "text/x-python",
   "name": "python",
   "nbconvert_exporter": "python",
   "pygments_lexer": "ipython3",
   "version": "3.6.1"
  }
 },
 "nbformat": 4,
 "nbformat_minor": 2
}
