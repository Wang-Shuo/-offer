{
 "cells": [
  {
   "cell_type": "markdown",
   "metadata": {},
   "source": [
    "###  Best Time to Buy and Sell Stock"
   ]
  },
  {
   "cell_type": "markdown",
   "metadata": {},
   "source": [
    "Say you have an array for which the ith element is the price of a given stock on day i.\n",
    "\n",
    "If you were only permitted to complete at most one transaction (i.e., buy one and sell one share of the stock), design an algorithm to find the maximum profit.\n",
    "\n",
    "Note that you cannot sell a stock before you buy one.   [Best Time to Buy and Sell Stock](https://leetcode.com/problems/best-time-to-buy-and-sell-stock/description/)\n",
    "\n",
    "Example 1:\n",
    "\n",
    "> Input: [7,1,5,3,6,4]\n",
    "\n",
    "> Output: 5\n",
    "\n",
    "> Explanation: Buy on day 2 (price = 1) and sell on day 5 (price = 6), profit = 6-1 = 5. Not 7-1 = 6, as selling price needs to be larger than buying price.\n",
    "\n",
    "Example 2:\n",
    "\n",
    "> Input: [7,6,4,3,1]\n",
    "\n",
    "> Output: 0\n",
    "\n",
    "> Explanation: In this case, no transaction is done, i.e. max profit = 0."
   ]
  },
  {
   "cell_type": "code",
   "execution_count": 1,
   "metadata": {
    "collapsed": true
   },
   "outputs": [],
   "source": [
    "class Solution:\n",
    "    def maxProfit(self, prices):\n",
    "        \"\"\"\n",
    "        :type prices: List[int]\n",
    "        :rtype: int\n",
    "        \"\"\"\n",
    "        if not prices or len(prices) < 2:\n",
    "            return 0\n",
    "        \n",
    "        minPrice = prices[0]\n",
    "        maxProfit = prices[1] - minPrice\n",
    "        \n",
    "        for i in range(2, len(prices)):\n",
    "            if prices[i-1]< minPrice:\n",
    "                minPrice = prices[i-1]\n",
    "                \n",
    "            curProfit = prices[i] - minPrice\n",
    "            if curProfit > maxProfit:\n",
    "                maxProfit = curProfit\n",
    "                \n",
    "        if maxProfit < 0:\n",
    "            maxProfit = 0\n",
    "            \n",
    "        return maxProfit"
   ]
  },
  {
   "cell_type": "markdown",
   "metadata": {},
   "source": [
    "### Best Time to Buy and Sell Stock II"
   ]
  },
  {
   "cell_type": "markdown",
   "metadata": {},
   "source": [
    "Say you have an array for which the ith element is the price of a given stock on day i.\n",
    "\n",
    "Design an algorithm to find the maximum profit. You may complete as many transactions as you like (i.e., buy one and sell one share of the stock multiple times).\n",
    "\n",
    "Note: You may not engage in multiple transactions at the same time (i.e., you must sell the stock before you buy again).\n",
    "\n",
    "Example 1:\n",
    "\n",
    "> Input: [7,1,5,3,6,4]\n",
    "\n",
    "> Output: 7\n",
    "\n",
    "> Explanation: Buy on day 2 (price = 1) and sell on day 3 (price = 5), profit = 5-1 = 4. Then buy on day 4 (price = 3) and sell on day 5 (price = 6), profit = 6-3 = 3.\n",
    "\n",
    "Example 2:\n",
    "\n",
    "> Input: [1,2,3,4,5]\n",
    "\n",
    "> Output: 4\n",
    "\n",
    "> Explanation: Buy on day 1 (price = 1) and sell on day 5 (price = 5), profit = 5-1 = 4. Note that you cannot buy on day 1, buy on day 2 and sell them later, as you are engaging multiple transactions at the same time. You must sell before buying again.\n",
    "\n",
    "Example 3:\n",
    "\n",
    "> Input: [7,6,4,3,1]\n",
    "\n",
    "> Output: 0\n",
    "\n",
    "> Explanation: In this case, no transaction is done, i.e. max profit = 0."
   ]
  },
  {
   "cell_type": "code",
   "execution_count": 2,
   "metadata": {
    "collapsed": true
   },
   "outputs": [],
   "source": [
    "class Solution:\n",
    "    def maxProfit(self, prices):\n",
    "        \"\"\"\n",
    "        :type prices: List[int]\n",
    "        :rtype: int\n",
    "        \"\"\"\n",
    "        if not prices or len(prices) < 2:\n",
    "            return 0\n",
    "        \n",
    "        i = 0\n",
    "        length = len(prices)\n",
    "        peak = prices[0]\n",
    "        valley = prices[0]\n",
    "        maxProfit = 0\n",
    "        \n",
    "        while i < length - 1:\n",
    "            while i < length - 1 and prices[i] >= prices[i+1]:\n",
    "                i += 1\n",
    "            valley = prices[i]\n",
    "            \n",
    "            while i < length - 1 and prices[i] <= prices[i+1]:\n",
    "                i += 1\n",
    "            peak = prices[i]\n",
    "            \n",
    "            maxProfit += peak - valley\n",
    "            \n",
    "        return maxProfit"
   ]
  },
  {
   "cell_type": "code",
   "execution_count": 3,
   "metadata": {
    "collapsed": true
   },
   "outputs": [],
   "source": [
    "class Solution:\n",
    "    def maxProfit(self, prices):\n",
    "        \"\"\"\n",
    "        :type prices: List[int]\n",
    "        :rtype: int\n",
    "        \"\"\"\n",
    "        if not prices or len(prices) < 2:\n",
    "            return 0\n",
    "        \n",
    "        maxProfit = 0\n",
    "        for i in range(1, len(prices)):\n",
    "            if prices[i] > prices[i-1]:\n",
    "                maxProfit += (prices[i] - prices[i-1])\n",
    "                \n",
    "        return maxProfit"
   ]
  },
  {
   "cell_type": "code",
   "execution_count": null,
   "metadata": {
    "collapsed": true
   },
   "outputs": [],
   "source": []
  }
 ],
 "metadata": {
  "kernelspec": {
   "display_name": "Python 3",
   "language": "python",
   "name": "python3"
  },
  "language_info": {
   "codemirror_mode": {
    "name": "ipython",
    "version": 3
   },
   "file_extension": ".py",
   "mimetype": "text/x-python",
   "name": "python",
   "nbconvert_exporter": "python",
   "pygments_lexer": "ipython3",
   "version": "3.6.1"
  }
 },
 "nbformat": 4,
 "nbformat_minor": 2
}
