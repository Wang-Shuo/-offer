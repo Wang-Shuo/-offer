{
 "cells": [
  {
   "cell_type": "markdown",
   "metadata": {},
   "source": [
    "请实现一个函数，将一个字符串中的每个空格替换成“%20”。例如，当字符串为We Are Happy.则经过替换之后的字符串为We%20Are%20Happy。"
   ]
  },
  {
   "cell_type": "code",
   "execution_count": 1,
   "metadata": {
    "collapsed": true
   },
   "outputs": [],
   "source": [
    "# -*- coding:utf-8 -*-\n",
    "class Solution:\n",
    "    # s 源字符串\n",
    "        \n",
    "    def replaceSpace(self, s):\n",
    "        if not isinstance(s, str):\n",
    "            return\n",
    "        \n",
    "        numSpace = 0\n",
    "        for c in s:\n",
    "            if c == ' ':\n",
    "                numSpace += 1\n",
    "        \n",
    "        lenNewStr = len(s) + 2 * numSpace\n",
    "        newStr = [None] * lenNewStr\n",
    "        p = len(s) - 1\n",
    "        q = lenNewStr - 1\n",
    "        while p >= 0 and q >= p:\n",
    "            if s[p] != ' ':\n",
    "                newStr[q] = s[p]\n",
    "                p -= 1\n",
    "                q -= 1\n",
    "            else:\n",
    "                newStr[(q - 2):(q + 1)] = ['%', '2', '0']\n",
    "                p -= 1\n",
    "                q -= 3\n",
    "        \n",
    "        return ''.join(newStr)"
   ]
  },
  {
   "cell_type": "code",
   "execution_count": null,
   "metadata": {
    "collapsed": true
   },
   "outputs": [],
   "source": []
  }
 ],
 "metadata": {
  "kernelspec": {
   "display_name": "Python 3",
   "language": "python",
   "name": "python3"
  },
  "language_info": {
   "codemirror_mode": {
    "name": "ipython",
    "version": 3
   },
   "file_extension": ".py",
   "mimetype": "text/x-python",
   "name": "python",
   "nbconvert_exporter": "python",
   "pygments_lexer": "ipython3",
   "version": "3.6.1"
  }
 },
 "nbformat": 4,
 "nbformat_minor": 2
}
