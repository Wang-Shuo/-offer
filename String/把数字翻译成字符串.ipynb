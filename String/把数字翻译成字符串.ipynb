{
 "cells": [
  {
   "cell_type": "markdown",
   "metadata": {},
   "source": [
    "给定一个数字，按照如下规则把它翻译成字符串：0翻译成“a”，1翻译成“b”，...，25翻译成“z”。一个数字可能有多个翻译。例如12258有5种不同的翻译，分别是“bccfi”,“bwfi”,\"bczi\",\"mcfi\",\"mzi\"。请编程实现一个函数，用来计算一个数字有多少种不同的翻译方法。"
   ]
  },
  {
   "cell_type": "code",
   "execution_count": 1,
   "metadata": {
    "collapsed": true
   },
   "outputs": [],
   "source": [
    "class Solution:\n",
    "    def Num2StrCount(self, number):\n",
    "        if number < 0:\n",
    "            return 0\n",
    "        \n",
    "        numInStr = str(number)\n",
    "        length = len(numInStr)\n",
    "        counts = [0] * length\n",
    "        \n",
    "        for i in range(length - 1, -1, -1):\n",
    "            count = 0\n",
    "            if i < length - 1:\n",
    "                count = counts[i+1]\n",
    "            else:\n",
    "                count = 1\n",
    "                \n",
    "            if i < length - 1:\n",
    "                digit1 = int(numInStr[i])\n",
    "                digit2 = int(numInStr[i+1])\n",
    "                converted = 10 * digit1 + digit2\n",
    "                if converted >= 10 and converted <= 25:\n",
    "                    if i < length - 2:\n",
    "                        count += counts[i + 2]\n",
    "                    else:\n",
    "                        count += 1\n",
    "                        \n",
    "            counts[i] = count\n",
    "            \n",
    "        count = counts[0]\n",
    "        return count"
   ]
  },
  {
   "cell_type": "code",
   "execution_count": 5,
   "metadata": {},
   "outputs": [
    {
     "data": {
      "text/plain": [
       "5"
      ]
     },
     "execution_count": 5,
     "metadata": {},
     "output_type": "execute_result"
    }
   ],
   "source": [
    "s = Solution()\n",
    "s.Num2StrCount(12258)"
   ]
  },
  {
   "cell_type": "code",
   "execution_count": null,
   "metadata": {
    "collapsed": true
   },
   "outputs": [],
   "source": []
  }
 ],
 "metadata": {
  "kernelspec": {
   "display_name": "Python 3",
   "language": "python",
   "name": "python3"
  },
  "language_info": {
   "codemirror_mode": {
    "name": "ipython",
    "version": 3
   },
   "file_extension": ".py",
   "mimetype": "text/x-python",
   "name": "python",
   "nbconvert_exporter": "python",
   "pygments_lexer": "ipython3",
   "version": "3.6.1"
  }
 },
 "nbformat": 4,
 "nbformat_minor": 2
}
