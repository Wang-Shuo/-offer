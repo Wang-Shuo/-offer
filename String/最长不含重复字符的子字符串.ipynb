{
 "cells": [
  {
   "cell_type": "markdown",
   "metadata": {},
   "source": [
    "请从字符串中找出一个最长的不包含重复字符的子字符串，计算该最长子字符串的长度。假设字符串中只包含‘a’~'z'的字符。例如，在字符串“arabcacfr”中，最长的不含重复字符的子字符串是“acfr”,长度为4."
   ]
  },
  {
   "cell_type": "code",
   "execution_count": 1,
   "metadata": {
    "collapsed": true
   },
   "outputs": [],
   "source": [
    "class Solution:\n",
    "    def longestSubstringWithoutDuplication(self, s):\n",
    "        if not s or len(s.strip()) == 0:\n",
    "            return 0\n",
    "        \n",
    "        pos = [-1] * 26\n",
    "        curLength = 0\n",
    "        maxLength = 0\n",
    "        \n",
    "        for i, c in enumerate(s):\n",
    "            prevIndex = pos[ord(c) - ord('a')]\n",
    "            if prevIndex < 0 or i - prevIndex > curLength:\n",
    "                curLength += 1\n",
    "            else:\n",
    "                if curLength > maxLength:\n",
    "                    maxLength = curLength\n",
    "                \n",
    "                curLength = i - prevIndex\n",
    "                \n",
    "            pos[ord(c) - ord('a')] = i\n",
    "            \n",
    "        if curLength > maxLength:\n",
    "            maxLength = curLength\n",
    "            \n",
    "        return maxLength"
   ]
  },
  {
   "cell_type": "code",
   "execution_count": 2,
   "metadata": {},
   "outputs": [
    {
     "data": {
      "text/plain": [
       "4"
      ]
     },
     "execution_count": 2,
     "metadata": {},
     "output_type": "execute_result"
    }
   ],
   "source": [
    "s = Solution()\n",
    "s.longestSubstringWithoutDuplication('arabcacfr')"
   ]
  },
  {
   "cell_type": "code",
   "execution_count": 2,
   "metadata": {},
   "outputs": [],
   "source": [
    "class Solution:\n",
    "    def lengthOfLongestSubstring(self, s):\n",
    "        \"\"\"\n",
    "        :type s: str\n",
    "        :rtype: int\n",
    "        \"\"\"\n",
    "        start = 0\n",
    "        maxLength = 0\n",
    "        visited = {}\n",
    "\n",
    "        for i, c in enumerate(s):\n",
    "            if c in visited and start <= visited[c]:\n",
    "                start = visited[c] + 1\n",
    "            else:\n",
    "                maxLength = max(maxLength, i - start + 1)\n",
    "            visited[c] = i\n",
    "\n",
    "        return maxLength"
   ]
  },
  {
   "cell_type": "code",
   "execution_count": 3,
   "metadata": {},
   "outputs": [
    {
     "data": {
      "text/plain": [
       "4"
      ]
     },
     "execution_count": 3,
     "metadata": {},
     "output_type": "execute_result"
    }
   ],
   "source": [
    "s = Solution()\n",
    "s.lengthOfLongestSubstring('arabcacfr')"
   ]
  },
  {
   "cell_type": "code",
   "execution_count": null,
   "metadata": {
    "collapsed": true
   },
   "outputs": [],
   "source": []
  }
 ],
 "metadata": {
  "kernelspec": {
   "display_name": "Python 3",
   "language": "python",
   "name": "python3"
  },
  "language_info": {
   "codemirror_mode": {
    "name": "ipython",
    "version": 3
   },
   "file_extension": ".py",
   "mimetype": "text/x-python",
   "name": "python",
   "nbconvert_exporter": "python",
   "pygments_lexer": "ipython3",
   "version": "3.6.1"
  }
 },
 "nbformat": 4,
 "nbformat_minor": 2
}
