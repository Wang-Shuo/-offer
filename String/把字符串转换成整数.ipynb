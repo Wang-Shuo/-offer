{
 "cells": [
  {
   "cell_type": "markdown",
   "metadata": {},
   "source": [
    "将一个字符串转换成一个整数(实现Integer.valueOf(string)的功能，但是string不符合数字要求时返回0)，要求不能使用字符串转换整数的库函数。 数值为0或者字符串不是一个合法的数值则返回0。"
   ]
  },
  {
   "cell_type": "code",
   "execution_count": 1,
   "metadata": {
    "collapsed": true
   },
   "outputs": [],
   "source": [
    "class Solution:\n",
    "    def StrToInt(self, s):\n",
    "        # write code here\n",
    "        if not s or len(s) <= 0:\n",
    "            return 0\n",
    "        \n",
    "        sign = 1\n",
    "        if s[0] == '+':\n",
    "            sign = 1\n",
    "            s = s[1:]\n",
    "        elif s[0] == '-':\n",
    "            sign = -1\n",
    "            s = s[1:]\n",
    "            \n",
    "        converted = 0\n",
    "        for c in s:\n",
    "            if c < '0' or c > '9':\n",
    "                converted = 0\n",
    "                break\n",
    "            else:\n",
    "                converted = converted * 10 + int(c)\n",
    "                \n",
    "        return converted * sign"
   ]
  },
  {
   "cell_type": "code",
   "execution_count": null,
   "metadata": {
    "collapsed": true
   },
   "outputs": [],
   "source": []
  }
 ],
 "metadata": {
  "kernelspec": {
   "display_name": "Python 3",
   "language": "python",
   "name": "python3"
  },
  "language_info": {
   "codemirror_mode": {
    "name": "ipython",
    "version": 3
   },
   "file_extension": ".py",
   "mimetype": "text/x-python",
   "name": "python",
   "nbconvert_exporter": "python",
   "pygments_lexer": "ipython3",
   "version": "3.6.1"
  }
 },
 "nbformat": 4,
 "nbformat_minor": 2
}
