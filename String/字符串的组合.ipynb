{
 "cells": [
  {
   "cell_type": "markdown",
   "metadata": {},
   "source": [
    "输入一个字符串,按字典序打印出该字符串中字符的所有组合。"
   ]
  },
  {
   "cell_type": "code",
   "execution_count": 9,
   "metadata": {},
   "outputs": [],
   "source": [
    "class Solution:\n",
    "    def Combination(self, s):\n",
    "        if not s or len(s) <= 0:\n",
    "            return []\n",
    "        \n",
    "        if len(s) == 1:\n",
    "            return list(s)\n",
    "        \n",
    "        charList = list(s)\n",
    "        charList.sort()\n",
    "        result = []\n",
    "        \n",
    "        for i, c in enumerate(charList):\n",
    "            result.append(c)\n",
    "            if i > 1 and c == charList[i-1]:\n",
    "                continue\n",
    "            \n",
    "            temp = self.Combination(''.join(charList[i+1:]))\n",
    "            for j in temp:\n",
    "                result.append(c + j)\n",
    "            \n",
    "        result = list(set(result))\n",
    "        result.sort()\n",
    "        \n",
    "        return result"
   ]
  },
  {
   "cell_type": "code",
   "execution_count": 13,
   "metadata": {},
   "outputs": [
    {
     "data": {
      "text/plain": [
       "['a', 'ab', 'abc', 'ac', 'b', 'bc', 'c']"
      ]
     },
     "execution_count": 13,
     "metadata": {},
     "output_type": "execute_result"
    }
   ],
   "source": [
    "s = Solution()\n",
    "s.Combination('abc')"
   ]
  },
  {
   "cell_type": "code",
   "execution_count": null,
   "metadata": {
    "collapsed": true
   },
   "outputs": [],
   "source": []
  }
 ],
 "metadata": {
  "kernelspec": {
   "display_name": "Python 3",
   "language": "python",
   "name": "python3"
  },
  "language_info": {
   "codemirror_mode": {
    "name": "ipython",
    "version": 3
   },
   "file_extension": ".py",
   "mimetype": "text/x-python",
   "name": "python",
   "nbconvert_exporter": "python",
   "pygments_lexer": "ipython3",
   "version": "3.6.1"
  }
 },
 "nbformat": 4,
 "nbformat_minor": 2
}
