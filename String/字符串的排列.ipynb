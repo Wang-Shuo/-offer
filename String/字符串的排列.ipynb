{
 "cells": [
  {
   "cell_type": "markdown",
   "metadata": {},
   "source": [
    "输入一个字符串,按字典序打印出该字符串中字符的所有排列。例如输入字符串abc,则打印出由字符a,b,c所能排列出来的所有字符串abc,acb,bac,bca,cab和cba。"
   ]
  },
  {
   "cell_type": "code",
   "execution_count": 1,
   "metadata": {
    "collapsed": true
   },
   "outputs": [],
   "source": [
    "class Solution:\n",
    "    def Permutation(self, ss):\n",
    "        # write code here\n",
    "        if not ss or len(ss.strip()) == 0:\n",
    "            return []\n",
    "        if len(ss) == 1:\n",
    "            return list(ss)\n",
    "        \n",
    "        result = []\n",
    "        for i in range(len(ss)):\n",
    "            restStr = ss[:i] + ss[i+1:]\n",
    "            restPerm = self.Permutation(restStr)\n",
    "            for item in restPerm:\n",
    "                if ss[i] + item not in result:\n",
    "                    result.append(ss[i] + item)\n",
    "        \n",
    "        return sorted(result)"
   ]
  },
  {
   "cell_type": "code",
   "execution_count": null,
   "metadata": {
    "collapsed": true
   },
   "outputs": [],
   "source": []
  }
 ],
 "metadata": {
  "kernelspec": {
   "display_name": "Python 3",
   "language": "python",
   "name": "python3"
  },
  "language_info": {
   "codemirror_mode": {
    "name": "ipython",
    "version": 3
   },
   "file_extension": ".py",
   "mimetype": "text/x-python",
   "name": "python",
   "nbconvert_exporter": "python",
   "pygments_lexer": "ipython3",
   "version": "3.6.1"
  }
 },
 "nbformat": 4,
 "nbformat_minor": 2
}
