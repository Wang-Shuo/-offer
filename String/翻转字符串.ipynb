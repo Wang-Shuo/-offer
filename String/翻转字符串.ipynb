{
 "cells": [
  {
   "cell_type": "markdown",
   "metadata": {},
   "source": [
    "输入一个英文句子，翻转句子中单词的顺序，但单词内字符的顺序不变。为简单起见，标点符号和普通字母一样处理。例如，输入字符串“I am a student.”, 则输出\"student. a am I\"。"
   ]
  },
  {
   "cell_type": "code",
   "execution_count": 15,
   "metadata": {
    "collapsed": true
   },
   "outputs": [],
   "source": [
    "# -*- coding:utf-8 -*-\n",
    "class Solution:\n",
    "    def Reverse(self, sList):\n",
    "        if not sList or len(sList) <= 0:\n",
    "            return ''\n",
    "        start = 0\n",
    "        end = len(sList) - 1\n",
    "        while start < end:\n",
    "            sList[start], sList[end] = sList[end], sList[start]\n",
    "            start += 1\n",
    "            end -= 1\n",
    "        return sList\n",
    "        \n",
    "    def ReverseSentence(self, s):\n",
    "        # write code here\n",
    "        if not s or len(s) <= 0:\n",
    "            return ''\n",
    "        strList = list(s)\n",
    "        strList = self.Reverse(strList)\n",
    "        result = ''\n",
    "        resultList = []\n",
    "        start = 0\n",
    "        end = 0\n",
    "        while end < len(strList):\n",
    "            if end == len(strList) - 1:\n",
    "                resultList.append(self.Reverse(strList[start:]))\n",
    "                break\n",
    "            if strList[start] == ' ':\n",
    "                start += 1\n",
    "                end += 1\n",
    "                resultList.append(' ')\n",
    "            elif strList[end] == ' ':\n",
    "                resultList.append(self.Reverse(strList[start:end]))\n",
    "                start = end\n",
    "            else:\n",
    "                end += 1\n",
    "        \n",
    "        for c in resultList:\n",
    "            result += ''.join(c)\n",
    "            \n",
    "        return result\n",
    "        "
   ]
  },
  {
   "cell_type": "code",
   "execution_count": 16,
   "metadata": {},
   "outputs": [
    {
     "data": {
      "text/plain": [
       "'student. a am I'"
      ]
     },
     "execution_count": 16,
     "metadata": {},
     "output_type": "execute_result"
    }
   ],
   "source": [
    "s = Solution()\n",
    "s.ReverseSentence('I am a student.')"
   ]
  },
  {
   "cell_type": "markdown",
   "metadata": {},
   "source": [
    "字符串的左旋转操作是把字符串前面的若干个字符转移到字符串的尾部。请定义一个函数实现字符串左旋转操作的功能。比如，输入字符串“abcdefg”和数字2，该函数将返回左旋转两位得到的结果\"cdefgab\"."
   ]
  },
  {
   "cell_type": "code",
   "execution_count": 17,
   "metadata": {
    "collapsed": true
   },
   "outputs": [],
   "source": [
    "# -*- coding:utf-8 -*-\n",
    "class Solution:\n",
    "    def Reverse(self, strList):\n",
    "        if not strList or len(strList) <= 0:\n",
    "            return []\n",
    "        start = 0\n",
    "        end = len(strList) - 1\n",
    "        while start < end:\n",
    "            strList[start], strList[end] = strList[end], strList[start]\n",
    "            start += 1\n",
    "            end -= 1\n",
    "        return strList\n",
    "        \n",
    "        \n",
    "    def LeftRotateString(self, s, n):\n",
    "        # write code here\n",
    "        if not s or len(s) <= 0 or n < 0 or n > len(s):\n",
    "            return ''\n",
    "        strList = list(s)\n",
    "        resultList = self.Reverse(self.Reverse(strList[:n]) + self.Reverse(strList[n:]))\n",
    "        \n",
    "        result = ''\n",
    "        for c in resultList:\n",
    "            result += ''.join(c)\n",
    "        \n",
    "        return result"
   ]
  },
  {
   "cell_type": "code",
   "execution_count": null,
   "metadata": {
    "collapsed": true
   },
   "outputs": [],
   "source": []
  }
 ],
 "metadata": {
  "kernelspec": {
   "display_name": "Python 3",
   "language": "python",
   "name": "python3"
  },
  "language_info": {
   "codemirror_mode": {
    "name": "ipython",
    "version": 3
   },
   "file_extension": ".py",
   "mimetype": "text/x-python",
   "name": "python",
   "nbconvert_exporter": "python",
   "pygments_lexer": "ipython3",
   "version": "3.6.1"
  }
 },
 "nbformat": 4,
 "nbformat_minor": 2
}
