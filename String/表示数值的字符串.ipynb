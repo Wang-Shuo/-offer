{
 "cells": [
  {
   "cell_type": "markdown",
   "metadata": {},
   "source": [
    "请实现一个函数用来判断字符串是否表示数值（包括整数和小数）。"
   ]
  },
  {
   "cell_type": "code",
   "execution_count": 1,
   "metadata": {
    "collapsed": true
   },
   "outputs": [],
   "source": [
    "class Solution:\n",
    "    def isNumber(self, s):\n",
    "        \"\"\"\n",
    "        :type s: str\n",
    "        :rtype: bool\n",
    "        \"\"\"\n",
    "        if not s or len(s.strip()) == 0:\n",
    "            return False\n",
    "\n",
    "        strList = [w.lower() for w in s.strip()]\n",
    "        if 'e' in strList:\n",
    "            idxE = strList.index('e')\n",
    "            left = strList[:idxE]\n",
    "            right = strList[idxE+1:]\n",
    "\n",
    "            if '.' in right or len(right) == 0 or len(left) == 0:\n",
    "                return False\n",
    "\n",
    "            isLeft = self.scanDigit(left)\n",
    "            isRight = self.scanDigit(right)\n",
    "            return isLeft and isRight\n",
    "        else:\n",
    "            isNum = self.scanDigit(strList)\n",
    "            return isNum\n",
    "\n",
    "    def scanDigit(self, strList):\n",
    "        dotNum = 0\n",
    "        digitNum = 0\n",
    "        digitList = [str(i) for i in range(10)] + ['+', '-', '.']\n",
    "\n",
    "        for i in range(len(strList)):\n",
    "            if strList[i] not in digitList:\n",
    "                return False\n",
    "            if strList[i] == '.':\n",
    "                dotNum += 1\n",
    "            if strList[i] in [str(i) for i in range(10)]:\n",
    "                digitNum += 1\n",
    "            if strList[i] in ['+', '-'] and i != 0:\n",
    "                return False\n",
    "\n",
    "        if dotNum > 1:\n",
    "            return False\n",
    "        if digitNum == 0:\n",
    "            return False\n",
    "        return True"
   ]
  },
  {
   "cell_type": "code",
   "execution_count": null,
   "metadata": {
    "collapsed": true
   },
   "outputs": [],
   "source": []
  }
 ],
 "metadata": {
  "kernelspec": {
   "display_name": "Python 3",
   "language": "python",
   "name": "python3"
  },
  "language_info": {
   "codemirror_mode": {
    "name": "ipython",
    "version": 3
   },
   "file_extension": ".py",
   "mimetype": "text/x-python",
   "name": "python",
   "nbconvert_exporter": "python",
   "pygments_lexer": "ipython3",
   "version": "3.6.1"
  }
 },
 "nbformat": 4,
 "nbformat_minor": 2
}
