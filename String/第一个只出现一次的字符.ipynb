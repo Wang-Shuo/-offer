{
 "cells": [
  {
   "cell_type": "markdown",
   "metadata": {},
   "source": [
    "在字符串中找出第一个只出现一次的字符，返回它的位置。如果没有，则返回-1."
   ]
  },
  {
   "cell_type": "code",
   "execution_count": 1,
   "metadata": {
    "collapsed": true
   },
   "outputs": [],
   "source": [
    "# -*- coding:utf-8 -*-\n",
    "class Solution:\n",
    "    def FirstNotRepeatingChar(self, s):\n",
    "        # write code here\n",
    "        if not s or len(s) == 0:\n",
    "            return -1\n",
    "        \n",
    "        count = {}\n",
    "        for i in range(len(s)):\n",
    "            if s[i] not in count:\n",
    "                count[s[i]] = 1\n",
    "            else:\n",
    "                count[s[i]] += 1\n",
    "                \n",
    "        for i in range(len(s)):\n",
    "            if count[s[i]] == 1:\n",
    "                return i"
   ]
  },
  {
   "cell_type": "markdown",
   "metadata": {},
   "source": [
    "请实现一个函数用来找出字符流中第一个只出现一次的字符。例如，当从字符流中只读出前两个字符\"go\"时，第一个只出现一次的字符是\"g\"。当从该字符流中读出前六个字符“google\"时，第一个只出现一次的字符是\"l\"。如果当前字符流没有存在出现一次的字符，返回#字符。"
   ]
  },
  {
   "cell_type": "code",
   "execution_count": 3,
   "metadata": {
    "collapsed": true
   },
   "outputs": [],
   "source": [
    "# -*- coding:utf-8 -*-\n",
    "class Solution:\n",
    "    def __init__(self):\n",
    "        self.s = \"\"\n",
    "        self.count = {}\n",
    "        self.order = []\n",
    "        \n",
    "    def insert(self, char):\n",
    "        self.s += char\n",
    "        if char not in self.count:\n",
    "            self.count[char] = 1\n",
    "            self.order.append(char)\n",
    "        else:\n",
    "            self.count[char] += 1\n",
    "            \n",
    "    def FirstAppearingOnce(self):\n",
    "        for c in self.order:\n",
    "            if self.count[c] == 1:\n",
    "                return c\n",
    "        \n",
    "        return \"#\""
   ]
  },
  {
   "cell_type": "code",
   "execution_count": null,
   "metadata": {
    "collapsed": true
   },
   "outputs": [],
   "source": []
  }
 ],
 "metadata": {
  "kernelspec": {
   "display_name": "Python 3",
   "language": "python",
   "name": "python3"
  },
  "language_info": {
   "codemirror_mode": {
    "name": "ipython",
    "version": 3
   },
   "file_extension": ".py",
   "mimetype": "text/x-python",
   "name": "python",
   "nbconvert_exporter": "python",
   "pygments_lexer": "ipython3",
   "version": "3.6.1"
  }
 },
 "nbformat": 4,
 "nbformat_minor": 2
}
