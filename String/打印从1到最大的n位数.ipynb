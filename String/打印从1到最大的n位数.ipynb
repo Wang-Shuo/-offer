{
 "cells": [
  {
   "cell_type": "markdown",
   "metadata": {},
   "source": [
    "输入数字n，按顺序打印出从1到最大的n位十进制数，比如输入3，则打印出1,2,3一直到最大的999."
   ]
  },
  {
   "cell_type": "code",
   "execution_count": 6,
   "metadata": {
    "collapsed": true
   },
   "outputs": [],
   "source": [
    "class Solution:\n",
    "    def Print1ToMaxOfNDigits(self, n):\n",
    "        if n <= 0:\n",
    "            return\n",
    "        \n",
    "        number = ['0'] * n\n",
    "        for i in range(10):\n",
    "            number[0] = str(i)\n",
    "            self.Print1ToMaxOfNDigitsRecursively(number, n, 0)\n",
    "            \n",
    "    def Print1ToMaxOfNDigitsRecursively(self, number, length, index):\n",
    "        if index == (length - 1):\n",
    "            self.PrintNumber(number)\n",
    "            return\n",
    "        \n",
    "        for i in range(10):\n",
    "            number[index + 1] = str(i)\n",
    "            self.Print1ToMaxOfNDigitsRecursively(number, length, index + 1)\n",
    "            \n",
    "    def PrintNumber(self, number):\n",
    "        isBeginZero = True\n",
    "        length = len(number)\n",
    "        numStr = ''\n",
    "        \n",
    "        for i in range(length):\n",
    "            if isBeginZero and number[i] != '0':\n",
    "                isBeginZero = False\n",
    "            \n",
    "            if not isBeginZero:\n",
    "                numStr += number[i]\n",
    "        print(numStr, end = ' ')"
   ]
  },
  {
   "cell_type": "code",
   "execution_count": 7,
   "metadata": {
    "scrolled": true
   },
   "outputs": [
    {
     "name": "stdout",
     "output_type": "stream",
     "text": [
      " 1 2 3 4 5 6 7 8 9 10 11 12 13 14 15 16 17 18 19 20 21 22 23 24 25 26 27 28 29 30 31 32 33 34 35 36 37 38 39 40 41 42 43 44 45 46 47 48 49 50 51 52 53 54 55 56 57 58 59 60 61 62 63 64 65 66 67 68 69 70 71 72 73 74 75 76 77 78 79 80 81 82 83 84 85 86 87 88 89 90 91 92 93 94 95 96 97 98 99 "
     ]
    }
   ],
   "source": [
    "s = Solution()\n",
    "s.Print1ToMaxOfNDigits(2)"
   ]
  },
  {
   "cell_type": "code",
   "execution_count": null,
   "metadata": {
    "collapsed": true
   },
   "outputs": [],
   "source": []
  }
 ],
 "metadata": {
  "kernelspec": {
   "display_name": "Python 3",
   "language": "python",
   "name": "python3"
  },
  "language_info": {
   "codemirror_mode": {
    "name": "ipython",
    "version": 3
   },
   "file_extension": ".py",
   "mimetype": "text/x-python",
   "name": "python",
   "nbconvert_exporter": "python",
   "pygments_lexer": "ipython3",
   "version": "3.6.1"
  }
 },
 "nbformat": 4,
 "nbformat_minor": 2
}
